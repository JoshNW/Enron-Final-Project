{
 "cells": [
  {
   "cell_type": "markdown",
   "metadata": {},
   "source": [
    "# Identity Fraud From Enron Email"
   ]
  },
  {
   "cell_type": "markdown",
   "metadata": {},
   "source": [
    "### Understanding the Dataset and Question\n",
    "\n",
    "The purpose of this project is to use machine learning tools to identify Enron \n",
    "employees (Persons of Interest -POI) who have committed fraud based on the public Enron \n",
    "financial and email dataset. Enron is an energy trading company that had the largest case \n",
    "of corporate fraud in US history. POIs are one of 3: indicted, settled without admitting guilt,\n",
    "or testified in exchange of immunity.\n",
    "\n",
    "#### The Dataset\n",
    "\n",
    "The dataset contains about 146 users (18 of them are considered POIs, while 128 are non-POIs) mostly real emails exchanged by senior management of Enron. We can use machine learning on this dataset to answer questions like \"can we identify patterns in the emails?\", using regression we will be able to understand the relationship between the people's salary and their bonuses for example, and using clustering we can identify who was a member of the board of directors, and who was just an employee.\n",
    "\n",
    "The dataset has 21 features, that are either financial, email or (POI/non-POI)-related."
   ]
  },
  {
   "cell_type": "code",
   "execution_count": 2,
   "metadata": {},
   "outputs": [
    {
     "name": "stdout",
     "output_type": "stream",
     "text": [
      "Populating the interactive namespace from numpy and matplotlib\n",
      "Number of people in the Enron dataset: 146\n"
     ]
    }
   ],
   "source": [
    "#!/usr/bin/python\n",
    "import warnings; warnings.simplefilter('ignore')\n",
    "import sys\n",
    "import pickle\n",
    "from time import time\n",
    "import numpy as np\n",
    "import matplotlib.pyplot as plt\n",
    "from __future__ import division\n",
    "\n",
    "sys.path.append(\"C:/JBasineni/Mach_learn/ud120-projects-master/ud120-projects-master/tools/\")\n",
    "sys.path.append('C:/JBasineni/Mach_learn/ud120-projects-master/ud120-projects-master/choose_your_own')\n",
    "sys.path.append('C:/JBasineni/Mach_learn/ud120-projects-master/ud120-projects-master/datasets_questions')\n",
    "sys.path.append('C:\\JBasineni/Mach_learn/ud120-projects-master')\n",
    "sys.path.append(\"../tools/\")\n",
    "\n",
    "import os\n",
    "os.chdir('C:/JBasineni/Mach_learn/ud120-projects-master/ud120-projects-master/final_project')\n",
    "\n",
    "# Use seaborn for plotting defaults\n",
    "import seaborn as sns; sns.set()\n",
    "\n",
    "%pylab inline\n",
    "\n",
    "from feature_format import featureFormat, targetFeatureSplit\n",
    "from tester import dump_classifier_and_data\n",
    "\n",
    "enron_data = pickle.load(open(\"final_project_dataset.pkl\", \"rb\") )\n",
    "print ('Number of people in the Enron dataset: {0}'.format(len(enron_data)))\n",
    "\n",
    "\n"
   ]
  },
  {
   "cell_type": "code",
   "execution_count": 3,
   "metadata": {},
   "outputs": [
    {
     "name": "stdout",
     "output_type": "stream",
     "text": [
      "Number of people in the dataset:  146\n",
      "Number of POI's: 18\n",
      "Proportion of POIs in the dataset: 0.1232876712328767\n"
     ]
    }
   ],
   "source": [
    "nb_people=len(enron_data)\n",
    "print ('Number of people in the dataset: ',nb_people)\n",
    "\n",
    "pois = [x for x, y in enron_data.items() if y['poi']]\n",
    "print ('Number of POI\\'s: {0}'.format(len(pois)))\n",
    "print (\"Proportion of POIs in the dataset:\",len(pois)/nb_people)\n",
    "#nb_poi=sum([data_dict[key]['poi']==1 for key in data_dict])\n",
    "#print (\"Number of persons of interest (POI): \",nb_poi)\n",
    "#print (\"Proportion of POIs in the dataset:\",nb_poi/nb_people)"
   ]
  },
  {
   "cell_type": "markdown",
   "metadata": {},
   "source": [
    "\n",
    "We observe that out of 146 persons included in the data set, only 18 persons are considered as persons of interest, which reprents 12.3%. The data set is very unbalanced.\n",
    "\n",
    "How many features are available in the data set?"
   ]
  },
  {
   "cell_type": "code",
   "execution_count": 4,
   "metadata": {},
   "outputs": [
    {
     "name": "stdout",
     "output_type": "stream",
     "text": [
      "Number of features for each person in the Enron dataset: 21\n",
      " \n",
      "Features Available \n",
      "['salary',\n",
      " 'to_messages',\n",
      " 'deferral_payments',\n",
      " 'total_payments',\n",
      " 'loan_advances',\n",
      " 'bonus',\n",
      " 'email_address',\n",
      " 'restricted_stock_deferred',\n",
      " 'deferred_income',\n",
      " 'total_stock_value',\n",
      " 'expenses',\n",
      " 'from_poi_to_this_person',\n",
      " 'exercised_stock_options',\n",
      " 'from_messages',\n",
      " 'other',\n",
      " 'from_this_person_to_poi',\n",
      " 'poi',\n",
      " 'long_term_incentive',\n",
      " 'shared_receipt_with_poi',\n",
      " 'restricted_stock',\n",
      " 'director_fees']\n"
     ]
    }
   ],
   "source": [
    "# No of features in the ENRON dataset\n",
    "import pprint\n",
    "print ('Number of features for each person in the Enron dataset: {0}'.format(len(list(enron_data.values())[0])))\n",
    "print (' ')\n",
    "print ('Features Available ')\n",
    "#pprint.pprint(list(enron_data.values())[1] )\n",
    "pprint.pprint(list(enron_data['PRENTICE JAMES'].keys()))\n",
    "\n",
    "### features_list is a list of strings, each of which is a feature name.\n",
    "### The first feature must be \"poi\".\n",
    "features_list = ['poi','salary', 'expenses', 'total_stock_value', 'bonus', 'from_poi_to_this_person', 'shared_receipt_with_poi'] # You will need to use more features\n",
    "\n",
    "financial_features = ['salary', 'deferral_payments', 'total_payments', 'loan_advances', 'bonus', 'restricted_stock_deferred', 'deferred_income', 'total_stock_value',\n",
    "'expenses', 'exercised_stock_options', 'other', 'long_term_incentive', 'restricted_stock', 'director_fees']\n",
    "email_features = ['to_messages', 'email_address', 'from_poi_to_this_person', 'from_messages', 'from_this_person_to_poi', 'shared_receipt_with_poi']\n",
    "POI_label = ['poi']\n",
    "total_features = POI_label + financial_features + email_features"
   ]
  },
  {
   "cell_type": "markdown",
   "metadata": {},
   "source": [
    "####   Outlier investigation\n",
    "Are there outliers in the data set? We can start by creating a scatter plot with the salary and bonus features."
   ]
  },
  {
   "cell_type": "code",
   "execution_count": 5,
   "metadata": {},
   "outputs": [
    {
     "name": "stdout",
     "output_type": "stream",
     "text": [
      "{'bonus': 'NaN',\n",
      " 'deferral_payments': 'NaN',\n",
      " 'deferred_income': 'NaN',\n",
      " 'director_fees': 'NaN',\n",
      " 'email_address': 'NaN',\n",
      " 'exercised_stock_options': 'NaN',\n",
      " 'expenses': 'NaN',\n",
      " 'from_messages': 'NaN',\n",
      " 'from_poi_to_this_person': 'NaN',\n",
      " 'from_this_person_to_poi': 'NaN',\n",
      " 'loan_advances': 'NaN',\n",
      " 'long_term_incentive': 'NaN',\n",
      " 'other': 362096,\n",
      " 'poi': False,\n",
      " 'restricted_stock': 'NaN',\n",
      " 'restricted_stock_deferred': 'NaN',\n",
      " 'salary': 'NaN',\n",
      " 'shared_receipt_with_poi': 'NaN',\n",
      " 'to_messages': 'NaN',\n",
      " 'total_payments': 362096,\n",
      " 'total_stock_value': 'NaN'}\n"
     ]
    }
   ],
   "source": [
    "#Explore the names of the people\n",
    "\n",
    "#pprint.pprint(list(enron_data.keys()))\n",
    "pprint.pprint(enron_data['THE TRAVEL AGENCY IN THE PARK'])"
   ]
  },
  {
   "cell_type": "markdown",
   "metadata": {},
   "source": [
    "Clearly 'THE TRAVEL AGENCY IN THE PARK' is not a valid person and also all the values have 'NaN'. So this can be removed from out dataset. We also should remove any person who has all the values in the dataset as 'NaN'."
   ]
  },
  {
   "cell_type": "code",
   "execution_count": 6,
   "metadata": {},
   "outputs": [
    {
     "name": "stdout",
     "output_type": "stream",
     "text": [
      "What's the name of the outlier: ['CHAN RONNIE', 'POWERS WILLIAM', 'LOCKHART EUGENE E']\n",
      "{'bonus': 'NaN',\n",
      " 'deferral_payments': 'NaN',\n",
      " 'deferred_income': -17500,\n",
      " 'director_fees': 17500,\n",
      " 'email_address': 'ken.powers@enron.com',\n",
      " 'exercised_stock_options': 'NaN',\n",
      " 'expenses': 'NaN',\n",
      " 'from_messages': 26,\n",
      " 'from_poi_to_this_person': 0,\n",
      " 'from_this_person_to_poi': 0,\n",
      " 'loan_advances': 'NaN',\n",
      " 'long_term_incentive': 'NaN',\n",
      " 'other': 'NaN',\n",
      " 'poi': False,\n",
      " 'restricted_stock': 'NaN',\n",
      " 'restricted_stock_deferred': 'NaN',\n",
      " 'salary': 'NaN',\n",
      " 'shared_receipt_with_poi': 12,\n",
      " 'to_messages': 653,\n",
      " 'total_payments': 'NaN',\n",
      " 'total_stock_value': 'NaN'}\n"
     ]
    }
   ],
   "source": [
    "#Check for people whose total payments and total stock value is NULL\n",
    "outliers =[]\n",
    "for key in enron_data.keys():\n",
    "    if  (enron_data[key]['total_payments']=='NaN') & (enron_data[key]['total_stock_value']=='NaN') :\n",
    "        outliers.append(key)\n",
    "print (\"What's the name of the outlier:\",(outliers))\n",
    "\n",
    "pprint.pprint( (enron_data['POWERS WILLIAM']))"
   ]
  },
  {
   "cell_type": "markdown",
   "metadata": {},
   "source": [
    "On further exploration we also found 'CHAN RONNIE', 'POWERS WILLIAM', 'LOCKHART EUGENE E' have toal payments and total stock value as NULL . They also do not have any messages to and from any POI. So I am planning to remove these from the dataset."
   ]
  },
  {
   "cell_type": "code",
   "execution_count": 7,
   "metadata": {},
   "outputs": [
    {
     "data": {
      "text/plain": [
       "{'bonus': 'NaN',\n",
       " 'deferral_payments': 'NaN',\n",
       " 'deferred_income': -98784,\n",
       " 'director_fees': 98784,\n",
       " 'email_address': 'NaN',\n",
       " 'exercised_stock_options': 'NaN',\n",
       " 'expenses': 'NaN',\n",
       " 'from_messages': 'NaN',\n",
       " 'from_poi_to_this_person': 'NaN',\n",
       " 'from_this_person_to_poi': 'NaN',\n",
       " 'loan_advances': 'NaN',\n",
       " 'long_term_incentive': 'NaN',\n",
       " 'other': 'NaN',\n",
       " 'poi': False,\n",
       " 'restricted_stock': 32460,\n",
       " 'restricted_stock_deferred': -32460,\n",
       " 'salary': 'NaN',\n",
       " 'shared_receipt_with_poi': 'NaN',\n",
       " 'to_messages': 'NaN',\n",
       " 'total_payments': 'NaN',\n",
       " 'total_stock_value': 'NaN'}"
      ]
     },
     "execution_count": 7,
     "metadata": {},
     "output_type": "execute_result"
    }
   ],
   "source": [
    "# Removing the outliers\n",
    "enron_data.pop('THE TRAVEL AGENCY IN THE PARK',0)\n",
    "enron_data.pop('POWERS WILLIAM',0)\n",
    "enron_data.pop('LOCKHART EUGENE E',0)\n",
    "enron_data.pop('CHAN RONNIE',0)"
   ]
  },
  {
   "cell_type": "code",
   "execution_count": 8,
   "metadata": {},
   "outputs": [
    {
     "data": {
      "image/png": "[encoded data removed]",
      "text/plain": [
       "<matplotlib.figure.Figure at 0x1b909d902e8>"
      ]
     },
     "metadata": {},
     "output_type": "display_data"
    }
   ],
   "source": [
    "features_list = [\"poi\",\"salary\", \"bonus\"]\n",
    "data = featureFormat(enron_data, features_list, sort_keys = True)\n",
    "poi=data[:,0]\n",
    "salary = data[:,1]\n",
    "bonus = data[:,2]\n",
    "\n",
    "plt.scatter(salary[poi==1],bonus[poi==1],c='red',s=50,label='poi')\n",
    "plt.scatter(salary[poi==0],bonus[poi==0],c='blue',s=50,label='not poi')\n",
    "\n",
    "plt.xlabel(\"Salary\")\n",
    "plt.ylabel(\"Bonus\")\n",
    "plt.legend(loc='lower right')\n",
    "plt.title(\"Bonus vs Salary\")\n",
    "plt.show()"
   ]
  },
  {
   "cell_type": "markdown",
   "metadata": {},
   "source": [
    "\n",
    "We can clearly see an outlier with a salary higher than 25,000,000 dollars and a bonus higher than 80,000,000 dollars but not a POI. But who is this outlier?"
   ]
  },
  {
   "cell_type": "code",
   "execution_count": 9,
   "metadata": {},
   "outputs": [
    {
     "name": "stdout",
     "output_type": "stream",
     "text": [
      "What's the name of the outlier: ['TOTAL']\n"
     ]
    }
   ],
   "source": [
    "outliers =[]\n",
    "for key in enron_data.keys():\n",
    "    if (enron_data[key]['bonus']!='NaN')& (enron_data[key]['salary']!='NaN'):\n",
    "        if (int(enron_data[key]['bonus'])>0.8*1e8) & (int(enron_data[key]['salary'])>2.5*1e7):\n",
    "            outliers.append(key)\n",
    "print (\"What's the name of the outlier:\",outliers)"
   ]
  },
  {
   "cell_type": "markdown",
   "metadata": {},
   "source": [
    "That solves the mystery. It appears that there is a bug in the data set. The outlier is in fact the total of each variable. Let's remove this outlier."
   ]
  },
  {
   "cell_type": "code",
   "execution_count": 10,
   "metadata": {},
   "outputs": [],
   "source": [
    "# We use the method pop to remove in the dictionary the item 'TOTAL.\n",
    "enron_data.pop('TOTAL',0)\n",
    "data = featureFormat(enron_data, features_list)"
   ]
  },
  {
   "cell_type": "markdown",
   "metadata": {},
   "source": [
    "LEts try to check for Outliers again after removing the total row from dataset"
   ]
  },
  {
   "cell_type": "code",
   "execution_count": 11,
   "metadata": {},
   "outputs": [
    {
     "data": {
      "image/png": "[encoded data removed]",
      "text/plain": [
       "<matplotlib.figure.Figure at 0x1b90be7d320>"
      ]
     },
     "metadata": {},
     "output_type": "display_data"
    }
   ],
   "source": [
    "# Let's check for Outliers again\n",
    "poi=data[:,0]\n",
    "salary = data[:,1]\n",
    "bonus = data[:,2]\n",
    "\n",
    "plt.scatter(salary[poi==1],bonus[poi==1],c='red',s=50,label='poi')\n",
    "plt.scatter(salary[poi==0],bonus[poi==0],c='blue',s=50,label='not poi')\n",
    "\n",
    "plt.xlabel(\"Salary\")\n",
    "plt.ylabel(\"Bonus\")\n",
    "plt.legend(loc='lower right')\n",
    "plt.title(\"Bonus vs Salary\")\n",
    "plt.show()"
   ]
  },
  {
   "cell_type": "markdown",
   "metadata": {},
   "source": [
    "Now that we have cleaned up our dataset for Outliers and data elements which do not make sense  we can move to feature selection "
   ]
  },
  {
   "cell_type": "markdown",
   "metadata": {},
   "source": [
    "# Feature Selection/Engineering\n",
    "\n",
    "### New Feature\n",
    "\n",
    "Persons of interest may have strong email connections. POIs might send emails to other POIs at a higher rate than the rest of the population. For this reason, let's create two new features: one that represents the fraction of emails that a person sent to POIs, and another feature that represents the fraction of emails that a person received from POIs."
   ]
  },
  {
   "cell_type": "code",
   "execution_count": 12,
   "metadata": {},
   "outputs": [
    {
     "name": "stdout",
     "output_type": "stream",
     "text": [
      "['poi',\n",
      " 'salary',\n",
      " 'deferral_payments',\n",
      " 'total_payments',\n",
      " 'loan_advances',\n",
      " 'bonus',\n",
      " 'restricted_stock_deferred',\n",
      " 'deferred_income',\n",
      " 'total_stock_value',\n",
      " 'expenses',\n",
      " 'exercised_stock_options',\n",
      " 'other',\n",
      " 'long_term_incentive',\n",
      " 'restricted_stock',\n",
      " 'director_fees',\n",
      " 'to_messages',\n",
      " 'from_poi_to_this_person',\n",
      " 'from_messages',\n",
      " 'from_this_person_to_poi',\n",
      " 'shared_receipt_with_poi',\n",
      " 'fraction_from_poi',\n",
      " 'fraction_to_poi']\n"
     ]
    }
   ],
   "source": [
    "# Functions to calculate the fraction of emails from /to a person and a POI\n",
    "def computeFraction(poi_messages, all_messages):\n",
    "    \"\"\" given a number messages to/from POI (numerator) \n",
    "        and number of all messages to/from a person (denominator),\n",
    "        return the fraction of messages to/from that person\n",
    "        that are from/to a POI\n",
    "   \"\"\"\n",
    "    fraction = 0.\n",
    "    \n",
    "    if poi_messages=='NaN' or all_messages=='NaN':\n",
    "        fraction = 0.\n",
    "    else:  \n",
    "        fraction=float(poi_messages)/float(all_messages)\n",
    "\n",
    "    return fraction\n",
    "\n",
    "\n",
    "for name in enron_data:\n",
    "\n",
    "    data_point = enron_data[name]\n",
    "\n",
    "    from_poi_to_this_person = data_point[\"from_poi_to_this_person\"]\n",
    "    to_messages = data_point[\"to_messages\"]\n",
    "    fraction_from_poi = computeFraction( from_poi_to_this_person, to_messages )\n",
    "    data_point[\"fraction_from_poi\"] = fraction_from_poi\n",
    "\n",
    "\n",
    "    from_this_person_to_poi = data_point[\"from_this_person_to_poi\"]\n",
    "    from_messages = data_point[\"from_messages\"]\n",
    "    fraction_to_poi = computeFraction( from_this_person_to_poi, from_messages )\n",
    "    data_point[\"fraction_to_poi\"] = fraction_to_poi\n",
    "features_list_n = total_features\n",
    "features_list_n.remove('email_address')\n",
    "features_list_n =  features_list_n + ['fraction_from_poi', 'fraction_to_poi']\n",
    "pprint.pprint (features_list_n)"
   ]
  },
  {
   "cell_type": "code",
   "execution_count": 13,
   "metadata": {},
   "outputs": [],
   "source": [
    "fraction_to_poifraction =[enron_data[key][\"fraction_to_poi\"] for key in enron_data]\n",
    "fraction_from_poi=[enron_data[key][\"fraction_from_poi\"] for key in enron_data]\n",
    "poi=[enron_data[key][\"poi\"]==1 for key in enron_data]"
   ]
  },
  {
   "cell_type": "code",
   "execution_count": 14,
   "metadata": {},
   "outputs": [],
   "source": [
    "\n",
    "def takeSecond(elem):\n",
    "    \"\"\" take second element for sort\n",
    "    \"\"\"\n",
    "    return elem[1]"
   ]
  },
  {
   "cell_type": "code",
   "execution_count": 15,
   "metadata": {},
   "outputs": [
    {
     "data": {
      "image/png": "[encoded data removed]",
      "text/plain": [
       "<matplotlib.figure.Figure at 0x1b90be33cc0>"
      ]
     },
     "metadata": {},
     "output_type": "display_data"
    }
   ],
   "source": [
    "### create new features\n",
    "### new features are: fraction_to_poi_email,fraction_from_poi_email\n",
    "\n",
    "def dict_to_list(key,normalizer):\n",
    "    new_list=[]\n",
    "\n",
    "    for i in enron_data:\n",
    "        if enron_data[i][key]==\"NaN\" or enron_data[i][normalizer]==\"NaN\":\n",
    "            new_list.append(0.)\n",
    "        elif enron_data[i][key]>=0:\n",
    "            new_list.append(float(enron_data[i][key])/float(enron_data[i][normalizer]))\n",
    "    return new_list\n",
    "\n",
    "### create two lists of new features\n",
    "fraction_from_poi=dict_to_list(\"from_poi_to_this_person\",\"to_messages\")\n",
    "fraction_to_poi=dict_to_list(\"from_this_person_to_poi\",\"from_messages\")\n",
    "\n",
    "### insert new features into data_dict\n",
    "count=0\n",
    "for i in enron_data:\n",
    "    enron_data[i][\"fraction_from_poi\"]=fraction_from_poi[count]\n",
    "    enron_data[i][\"fraction_to_poi\"]=fraction_to_poi[count]\n",
    "    count +=1\n",
    "\n",
    "    \n",
    "features_list = [\"poi\", \"fraction_from_poi\", \"fraction_to_poi\"]    \n",
    "    ### store to my_dataset for easy export below\n",
    "my_dataset = enron_data\n",
    "\n",
    "\n",
    "### these two lines extract the features specified in features_list\n",
    "### and extract them from data_dict, returning a numpy array\n",
    "data = featureFormat(my_dataset, features_list)\n",
    "\n",
    "### plot new features\n",
    "for point in data:\n",
    "    from_poi = point[1]\n",
    "    to_poi = point[2]\n",
    "    #plt.scatter( from_poi, to_poi )\n",
    "    if point[0] == 1:\n",
    "        plt.scatter(from_poi, to_poi, color=\"r\", marker=\"*\",label='poi')\n",
    "    else:\n",
    "        plt.scatter(from_poi, to_poi, color=\"b\", label='not poi')\n",
    "\n",
    "plt.xlabel('Fraction of emails the person received from a POI') \n",
    "plt.ylabel('Fraction of emails the person sent to a POI')  \n",
    "plt.show()"
   ]
  },
  {
   "cell_type": "markdown",
   "metadata": {},
   "source": [
    "We can observe that these two features have a discriminating power between POI and non POI. For example, we can observe that there are no POIs with fraction_to_poi<0.2."
   ]
  },
  {
   "cell_type": "markdown",
   "metadata": {},
   "source": [
    "\n",
    "\n",
    "To select the features we will use an automated feature selection function named SelectKBest from the sklearn library. We will tune the parameter K (number of features) at the same time we tune the parameters of the machine learning algorithm during the implementation of cross-validation. If we select the number of features on the entire data set and then we tune the parameters of the machine learning algorithm there is a risk of overfitting."
   ]
  },
  {
   "cell_type": "code",
   "execution_count": 16,
   "metadata": {},
   "outputs": [],
   "source": [
    "### Extract features and labels from dataset for local testing\n",
    "data = featureFormat(my_dataset, features_list_n, sort_keys = True)\n",
    "labels, features = targetFeatureSplit(data)"
   ]
  },
  {
   "cell_type": "code",
   "execution_count": 56,
   "metadata": {},
   "outputs": [
    {
     "name": "stdout",
     "output_type": "stream",
     "text": [
      "['poi',\n",
      " 'salary',\n",
      " 'deferral_payments',\n",
      " 'total_payments',\n",
      " 'loan_advances',\n",
      " 'bonus',\n",
      " 'restricted_stock_deferred',\n",
      " 'deferred_income',\n",
      " 'total_stock_value',\n",
      " 'expenses',\n",
      " 'exercised_stock_options',\n",
      " 'other',\n",
      " 'long_term_incentive',\n",
      " 'restricted_stock',\n",
      " 'director_fees',\n",
      " 'to_messages',\n",
      " 'from_poi_to_this_person',\n",
      " 'from_messages',\n",
      " 'from_this_person_to_poi',\n",
      " 'shared_receipt_with_poi',\n",
      " 'fraction_from_poi',\n",
      " 'fraction_to_poi']\n"
     ]
    }
   ],
   "source": [
    "import pprint\n",
    "pprint.pprint(features_list_n)\n",
    "#pprint.pprint(features)\n",
    "#pprint.pprint(labels)"
   ]
  },
  {
   "cell_type": "code",
   "execution_count": 18,
   "metadata": {},
   "outputs": [
    {
     "name": "stdout",
     "output_type": "stream",
     "text": [
      "'SelectKBest scores: '\n",
      "[('exercised_stock_options', 24.25047235452619),\n",
      " ('total_stock_value', 23.613740454440887),\n",
      " ('bonus', 20.25718499812395),\n",
      " ('salary', 17.71787357924329),\n",
      " ('fraction_to_poi', 15.946248696687636),\n",
      " ('deferred_income', 11.222175285805182),\n",
      " ('long_term_incentive', 9.62221216430468),\n",
      " ('restricted_stock', 8.947938884292649),\n",
      " ('total_payments', 8.570823078730976),\n",
      " ('shared_receipt_with_poi', 8.277457991443601),\n",
      " ('loan_advances', 7.066710861319749),\n",
      " ('expenses', 5.815328001904854),\n",
      " ('from_poi_to_this_person', 5.041257378669385),\n",
      " ('other', 4.070343006434408),\n",
      " ('fraction_from_poi', 2.963990314926164),\n",
      " ('from_this_person_to_poi', 2.295183195738003),\n",
      " ('director_fees', 1.9332910310121643),\n",
      " ('to_messages', 1.5634425546665922),\n",
      " ('deferral_payments', 0.24033464535223048),\n",
      " ('from_messages', 0.18071817710224855),\n",
      " ('restricted_stock_deferred', 0.06696644496108223)]\n",
      "['poi',\n",
      " 'exercised_stock_options',\n",
      " 'total_stock_value',\n",
      " 'bonus',\n",
      " 'salary',\n",
      " 'fraction_to_poi',\n",
      " 'deferred_income',\n",
      " 'long_term_incentive',\n",
      " 'restricted_stock',\n",
      " 'total_payments',\n",
      " 'shared_receipt_with_poi',\n",
      " 'loan_advances',\n",
      " 'expenses',\n",
      " 'from_poi_to_this_person',\n",
      " 'other',\n",
      " 'fraction_from_poi',\n",
      " 'from_this_person_to_poi',\n",
      " 'director_fees',\n",
      " 'to_messages',\n",
      " 'deferral_payments',\n",
      " 'from_messages']\n",
      "'KBest'\n",
      "['poi',\n",
      " 'exercised_stock_options',\n",
      " 'total_stock_value',\n",
      " 'bonus',\n",
      " 'salary',\n",
      " 'fraction_to_poi',\n",
      " 'deferred_income',\n",
      " 'long_term_incentive',\n",
      " 'restricted_stock',\n",
      " 'total_payments',\n",
      " 'shared_receipt_with_poi']\n"
     ]
    }
   ],
   "source": [
    "# intelligently select features (univariate feature selection)\n",
    "import pprint\n",
    "from sklearn.feature_selection import SelectKBest, f_classif\n",
    "selector = SelectKBest(f_classif, k = 10)\n",
    "selector.fit(features, labels)\n",
    "scores = zip(features_list_n[1:], selector.scores_)\n",
    "sorted_scores = sorted(scores, key = takeSecond, reverse = True)\n",
    "pprint.pprint('SelectKBest scores: ')\n",
    "pprint.pprint( sorted_scores)\n",
    "all_features =  POI_label + [(i[0]) for i in sorted_scores[0:20]]\n",
    "pprint.pprint( all_features)\n",
    "kBest_features = POI_label + [(i[0]) for i in sorted_scores[0:10]]\n",
    "pprint.pprint( 'KBest')\n",
    "pprint.pprint( kBest_features)\n",
    "\n",
    "#print(my_dataset)\n",
    "for emp in enron_data:\n",
    "    for f in enron_data[emp]:\n",
    "        if enron_data[emp][f] == 'NaN':\n",
    "            # fill NaN values\n",
    "            enron_data[emp][f] = 0\n",
    "\n",
    "my_dataset = enron_data"
   ]
  },
  {
   "cell_type": "code",
   "execution_count": 19,
   "metadata": {},
   "outputs": [],
   "source": [
    "\n",
    "\n",
    "# dataset without new features\n",
    "from sklearn import preprocessing\n",
    "data = featureFormat(my_dataset, kBest_features, sort_keys = True)\n",
    "labels, features = targetFeatureSplit(data)\n",
    "scaler = preprocessing.MinMaxScaler()\n",
    "features = scaler.fit_transform(features)\n",
    "\n",
    "# dataset with new features\n",
    "kBest_new_features = kBest_features + ['fraction_from_poi', 'fraction_to_poi']\n",
    "data = featureFormat(my_dataset, kBest_new_features, sort_keys = True)\n",
    "new_labels, new_features = targetFeatureSplit(data)\n",
    "new_features = scaler.fit_transform(new_features)"
   ]
  },
  {
   "cell_type": "code",
   "execution_count": 20,
   "metadata": {},
   "outputs": [],
   "source": [
    "from sklearn.cross_validation import train_test_split\n",
    "from sklearn.metrics import accuracy_score, precision_score, recall_score\n",
    "\n",
    "def tune_params(grid_search, features, labels, params, iters = 80):\n",
    "    \"\"\" given a grid_search and parameters list (if exist) for a specific model,\n",
    "    along with features and labels list,\n",
    "    it tunes the algorithm using grid search and prints out the average evaluation metrics\n",
    "    results (accuracy, percision, recall) after performing the tuning for iter times,\n",
    "    and the best hyperparameters for the model\n",
    "    \"\"\"\n",
    "    acc = []\n",
    "    pre = []\n",
    "    recall = []\n",
    "    for i in range(iters):\n",
    "        features_train, features_test, labels_train, labels_test = \\\n",
    "        train_test_split(features, labels, test_size = 0.3, random_state = i)\n",
    "        grid_search.fit(features_train, labels_train)\n",
    "        predicts = grid_search.predict(features_test)\n",
    "\n",
    "        acc = acc + [accuracy_score(labels_test, predicts)] \n",
    "        pre = pre + [precision_score(labels_test, predicts)]\n",
    "        recall = recall + [recall_score(labels_test, predicts)]\n",
    "    print (\"accuracy: {}\".format(np.mean(acc)))\n",
    "    print (\"precision: {}\".format(np.mean(pre)))\n",
    "    print (\"recall: {}\".format(np.mean(recall)))\n",
    "\n",
    "    best_params = grid_search.best_estimator_.get_params()\n",
    "    for param_name in params.keys():\n",
    "        print(\"%s = %r, \" % (param_name, best_params[param_name]))"
   ]
  },
  {
   "cell_type": "code",
   "execution_count": 21,
   "metadata": {},
   "outputs": [
    {
     "name": "stdout",
     "output_type": "stream",
     "text": [
      "Naive Bayes model evaluation\n",
      "accuracy: 0.8470930232558139\n",
      "precision: 0.3991815476190476\n",
      "recall: 0.33036706349206346\n",
      "Naive Bayes model evaluation with new features\n",
      "accuracy: 0.8325581395348836\n",
      "precision: 0.35005005411255413\n",
      "recall: 0.31953373015873016\n"
     ]
    }
   ],
   "source": [
    "from sklearn.model_selection import GridSearchCV\n",
    "\n",
    "# 1. Naive Bayes\n",
    "from sklearn.naive_bayes import GaussianNB\n",
    "nb_clf = GaussianNB()\n",
    "nb_param = {}\n",
    "nb_grid_search = GridSearchCV(estimator = nb_clf, param_grid = nb_param)\n",
    "print(\"Naive Bayes model evaluation\")\n",
    "tune_params(nb_grid_search, features, labels, nb_param)\n",
    "print(\"Naive Bayes model evaluation with new features\")\n",
    "tune_params(nb_grid_search, new_features, new_labels, nb_param)"
   ]
  },
  {
   "cell_type": "code",
   "execution_count": 22,
   "metadata": {},
   "outputs": [
    {
     "name": "stdout",
     "output_type": "stream",
     "text": [
      "SVM model evaluation\n",
      "accuracy: 0.8645348837209301\n",
      "precision: 0.15124999999999997\n",
      "recall: 0.06362103174603176\n",
      "kernel = 'sigmoid', \n",
      "gamma = 1, \n",
      "C = 100, \n",
      "SVM model evaluation with New Features\n",
      "accuracy: 0.8630813953488371\n",
      "precision: 0.13458333333333333\n",
      "recall: 0.06457837301587302\n",
      "kernel = 'linear', \n",
      "gamma = 1, \n",
      "C = 10, \n"
     ]
    }
   ],
   "source": [
    "# 2. Support Vector Machines\n",
    "from sklearn import svm\n",
    "svm_clf = svm.SVC()\n",
    "svm_param = {'kernel':('linear', 'rbf', 'sigmoid'),\n",
    "'gamma': [1, 0.1, 0.01, 0.001, 0.0001],\n",
    "'C': [0.1, 1, 10, 100, 1000]}\n",
    "svm_grid_search = GridSearchCV(estimator = svm_clf, param_grid = svm_param)\n",
    "\n",
    "print(\"SVM model evaluation\")\n",
    "tune_params(svm_grid_search, features, labels, svm_param)\n",
    "print(\"SVM model evaluation with New Features\")\n",
    "tune_params(svm_grid_search, new_features, new_labels, svm_param)"
   ]
  },
  {
   "cell_type": "code",
   "execution_count": 23,
   "metadata": {},
   "outputs": [
    {
     "name": "stdout",
     "output_type": "stream",
     "text": [
      "Decision Tree model evaluation\n",
      "accuracy: 0.8267441860465115\n",
      "precision: 0.322347132034632\n",
      "recall: 0.31524305555555554\n",
      "criterion = 'gini', \n",
      "splitter = 'random', \n",
      "Decision Tree model evaluation with New Features\n",
      "accuracy: 0.8148255813953487\n",
      "precision: 0.2917219585969586\n",
      "recall: 0.34172619047619046\n",
      "criterion = 'gini', \n",
      "splitter = 'best', \n"
     ]
    }
   ],
   "source": [
    "# 3. Decision Tree\n",
    "from sklearn import tree\n",
    "dt_clf = tree.DecisionTreeClassifier()\n",
    "dt_param = {'criterion':('gini', 'entropy'),\n",
    "'splitter':('best','random')}\n",
    "dt_grid_search = GridSearchCV(estimator = dt_clf, param_grid = dt_param)\n",
    "\n",
    "print(\"Decision Tree model evaluation\")\n",
    "tune_params(dt_grid_search, features, labels, dt_param)\n",
    "print(\"Decision Tree model evaluation with New Features\")\n",
    "tune_params(dt_grid_search, new_features, new_labels, dt_param)"
   ]
  },
  {
   "cell_type": "code",
   "execution_count": 24,
   "metadata": {},
   "outputs": [
    {
     "name": "stdout",
     "output_type": "stream",
     "text": [
      "Random Forest model evaluation\n",
      "accuracy: 0.8642441860465115\n",
      "precision: 0.3551488095238095\n",
      "recall: 0.15514880952380952\n",
      "Random Forest model evaluation with New Features\n",
      "accuracy: 0.8656976744186047\n",
      "precision: 0.41607142857142854\n",
      "recall: 0.14376984126984124\n"
     ]
    }
   ],
   "source": [
    "# 4. Random Forest\n",
    "from sklearn.ensemble import RandomForestClassifier\n",
    "rf_clf = RandomForestClassifier(n_estimators=10)\n",
    "rf_param = {}\n",
    "rf_grid_search = GridSearchCV(estimator = rf_clf, param_grid = rf_param)\n",
    "\n",
    "print(\"Random Forest model evaluation\")\n",
    "tune_params(rf_grid_search, features, labels, rf_param)\n",
    "print(\"Random Forest model evaluation with New Features\")\n",
    "tune_params(rf_grid_search, new_features, new_labels, rf_param)"
   ]
  },
  {
   "cell_type": "code",
   "execution_count": 25,
   "metadata": {},
   "outputs": [
    {
     "name": "stdout",
     "output_type": "stream",
     "text": [
      "Logistic Regression model evaluation\n",
      "accuracy: 0.8723837209302324\n",
      "precision: 0.0\n",
      "recall: 0.0\n",
      "tol = 1, \n",
      "C = 0.1, \n",
      "Logistic Regression model evaluation with new features\n",
      "accuracy: 0.8723837209302324\n",
      "precision: 0.0\n",
      "recall: 0.0\n",
      "tol = 1, \n",
      "C = 0.1, \n"
     ]
    }
   ],
   "source": [
    "# 5. Logistic Regression\n",
    "from sklearn.linear_model import LogisticRegression\n",
    "lr_clf = LogisticRegression()\n",
    "lr_param = {'tol': [1, 0.1, 0.01, 0.001, 0.0001],\n",
    "'C': [0.1, 0.01, 0.001, 0.0001]}\n",
    "lr_grid_search = GridSearchCV(estimator = lr_clf, param_grid = lr_param)\n",
    "\n",
    "print(\"Logistic Regression model evaluation\")\n",
    "tune_params(lr_grid_search, features, labels, lr_param)\n",
    "print(\"Logistic Regression model evaluation with new features\")\n",
    "tune_params(lr_grid_search, new_features, new_labels, lr_param)"
   ]
  },
  {
   "cell_type": "code",
   "execution_count": 26,
   "metadata": {},
   "outputs": [],
   "source": [
    "\n",
    "\n",
    "# dataset without new features\n",
    "from sklearn import preprocessing\n",
    "data = featureFormat(my_dataset, all_features, sort_keys = True)\n",
    "labels1, features1 = targetFeatureSplit(data)\n",
    "scaler = preprocessing.MinMaxScaler()\n",
    "features1 = scaler.fit_transform(features1)\n",
    "\n"
   ]
  },
  {
   "cell_type": "code",
   "execution_count": 27,
   "metadata": {},
   "outputs": [],
   "source": [
    "from sklearn.feature_selection import SelectKBest, f_classif\n",
    "def feature_selection(nb_features,features, labels):\n",
    "    selector = SelectKBest(f_classif, k=nb_features)\n",
    "    selector.fit(features, labels)\n",
    "    return selector"
   ]
  },
  {
   "cell_type": "code",
   "execution_count": 28,
   "metadata": {},
   "outputs": [],
   "source": [
    "from sklearn.cross_validation import StratifiedShuffleSplit\n",
    "from sklearn.feature_selection import SelectKBest, f_classif\n",
    "\n",
    "def test_classifier(clf, labels, features,nb_features, folds = 1000):\n",
    "    cv = StratifiedShuffleSplit(labels, folds, random_state = 42)\n",
    "    true_negatives = 0\n",
    "    false_negatives = 0\n",
    "    true_positives = 0\n",
    "    false_positives = 0\n",
    "    precision=0\n",
    "    recall=0\n",
    "    f1=0\n",
    "    f2=0\n",
    "    for train_idx, test_idx in cv: \n",
    "        features_train = []\n",
    "        features_test  = []\n",
    "        labels_train   = []\n",
    "        labels_test    = []\n",
    "        for ii in train_idx:\n",
    "            features_train.append( features[ii] )\n",
    "            labels_train.append( labels[ii] )\n",
    "        for jj in test_idx:\n",
    "            features_test.append( features[jj] )\n",
    "            labels_test.append( labels[jj] )\n",
    "            \n",
    "        #Selection of the best K features   \n",
    "       # selector=feature_selection(nb_features,features_train, labels_train)\n",
    "        selector=feature_selection(nb_features,features_train, labels_train)\n",
    "        features_train_transformed = selector.transform(features_train)\n",
    "        features_test_transformed  = selector.transform(features_test)   \n",
    "            \n",
    "        ### fit the classifier using training set, and test on test set\n",
    "        clf.fit(features_train_transformed, labels_train)\n",
    "        predictions = clf.predict(features_test_transformed)\n",
    "        for prediction, truth in zip(predictions, labels_test):\n",
    "            if prediction == 0 and truth == 0:\n",
    "                true_negatives += 1\n",
    "            elif prediction == 0 and truth == 1:\n",
    "                false_negatives += 1\n",
    "            elif prediction == 1 and truth == 0:\n",
    "                false_positives += 1\n",
    "            elif prediction == 1 and truth == 1:\n",
    "                true_positives += 1\n",
    "            else:\n",
    "                break\n",
    "   \n",
    "    try:\n",
    "        total_predictions = true_negatives + false_negatives + false_positives + true_positives\n",
    "        accuracy = 1.0*(true_positives + true_negatives)/total_predictions\n",
    "        precision = 1.0*true_positives/(true_positives+false_positives)\n",
    "        recall = 1.0*true_positives/(true_positives+false_negatives)\n",
    "        f1 = 2.0 * true_positives/(2*true_positives + false_positives+false_negatives)\n",
    "        f2 = (1+2.0*2.0) * precision*recall/(4*precision + recall)\n",
    "    except:\n",
    "        #print \"Got a divide by zero when trying out:\", clf\n",
    "        None\n",
    "    return precision,recall,f1,f2"
   ]
  },
  {
   "cell_type": "code",
   "execution_count": 39,
   "metadata": {},
   "outputs": [
    {
     "name": "stdout",
     "output_type": "stream",
     "text": [
      "[1.17797594e-01 1.07571339e-01 0.00000000e+00 4.29243254e-04\n",
      " 0.00000000e+00 9.98543539e-01 0.00000000e+00 2.51180225e-01\n",
      " 8.84703391e-03 8.42238725e-02]\n"
     ]
    }
   ],
   "source": [
    "print(features[2])"
   ]
  },
  {
   "cell_type": "code",
   "execution_count": 29,
   "metadata": {},
   "outputs": [
    {
     "name": "stdout",
     "output_type": "stream",
     "text": [
      "20\n"
     ]
    }
   ],
   "source": [
    "from sklearn.naive_bayes import GaussianNB\n",
    "from sklearn.cross_validation import StratifiedShuffleSplit\n",
    "from sklearn.feature_selection import SelectKBest, f_classif\n",
    "nb_features_orig=len(features1[1])\n",
    "print(nb_features_orig)\n",
    "#For each case, we want to record the different metrics.\n",
    "precision_result=[]\n",
    "recall_result=[]\n",
    "f1_result=[]\n",
    "f2_result=[]\n",
    "nb_feature_store=[]\n",
    "\n",
    "#Classifier\n",
    "clf=GaussianNB()\n",
    "\n",
    "#We calculate the evaluation metrics for k best number of features selected in the model.\n",
    "for nb_features in range(1,20):\n",
    "    \n",
    "    #We use cross-validation and we calculate precision and recall metrics\n",
    "    precision,recall,f1,f2=test_classifier(clf, labels1, features1,nb_features, folds = 1000)\n",
    "    #We record the evaluation metrics for each case               \n",
    "    precision_result.append(precision)\n",
    "    recall_result.append(recall)     \n",
    "    f1_result.append(f1)\n",
    "    f2_result.append(f2)\n",
    "    nb_feature_store.append(nb_features)\n",
    "    feature_name.append(features1)"
   ]
  },
  {
   "cell_type": "code",
   "execution_count": 327,
   "metadata": {},
   "outputs": [
    {
     "name": "stdout",
     "output_type": "stream",
     "text": [
      "23\n"
     ]
    }
   ],
   "source": [
    "from sklearn.naive_bayes import GaussianNB\n",
    "from sklearn.cross_validation import StratifiedShuffleSplit\n",
    "from sklearn.feature_selection import SelectKBest, f_classif\n",
    "nb_features_orig=len(features[1])\n",
    "nb_features_orig1=len(all_features[1])\n",
    "print(nb_features_orig1)\n",
    "#For each case, we want to record the different metrics.\n",
    "precision_result=[]\n",
    "recall_result=[]\n",
    "f1_result=[]\n",
    "f2_result=[]\n",
    "nb_feature_store=[]\n",
    "\n",
    "#Classifier\n",
    "clf=GaussianNB()\n",
    "\n",
    "#We calculate the evaluation metrics for k best number of features selected in the model.\n",
    "for nb_features in range(1,nb_features_orig+1):\n",
    "    \n",
    "    #We use cross-validation and we calculate precision and recall metrics\n",
    "    precision,recall,f1,f2=test_classifier(clf, labels, features,nb_features, folds = 1000)\n",
    "    #We record the evaluation metrics for each case               \n",
    "    precision_result.append(precision)\n",
    "    recall_result.append(recall)     \n",
    "    f1_result.append(f1)\n",
    "    f2_result.append(f2)\n",
    "    nb_feature_store.append(nb_features)\n",
    " \n",
    "    \n",
    "    \n",
    "   "
   ]
  },
  {
   "cell_type": "code",
   "execution_count": 30,
   "metadata": {},
   "outputs": [
    {
     "data": {
      "image/png": "[encoded data removed]",
      "text/plain": [
       "<matplotlib.figure.Figure at 0x1b90be86828>"
      ]
     },
     "metadata": {},
     "output_type": "display_data"
    }
   ],
   "source": [
    "plt.plot(range(1,nb_features_orig),precision_result,c='red',label='precision')\n",
    "plt.plot(range(1,nb_features_orig),recall_result,c='blue',label='recall')\n",
    "plt.xlabel(\"Number of features used in the model\")\n",
    "plt.title(\"Precision and recall by number of features included in the model\")\n",
    "plt.legend()\n",
    "plt.show()"
   ]
  },
  {
   "cell_type": "markdown",
   "metadata": {},
   "source": [
    "We observe that if we select 5 best features we have the best performance with a precision and recall higher than 0.3. \n",
    "What are the exact precision and recall when we select the 5 best features?"
   ]
  },
  {
   "cell_type": "code",
   "execution_count": 31,
   "metadata": {},
   "outputs": [
    {
     "name": "stdout",
     "output_type": "stream",
     "text": [
      "Precsion when the 5 best features are selected: 0.40443896424167697\n",
      "Recall when the 5 best features are selected 0.328\n"
     ]
    }
   ],
   "source": [
    "print (\"Precsion when the 5 best features are selected:\",precision_result[4])\n",
    "print (\"Recall when the 5 best features are selected\",recall_result[4])"
   ]
  },
  {
   "cell_type": "code",
   "execution_count": 380,
   "metadata": {},
   "outputs": [
    {
     "name": "stdout",
     "output_type": "stream",
     "text": [
      "'SelectKBest scores: '\n",
      "[('salary', 24.25047235452619),\n",
      " ('deferral_payments', 23.613740454440904),\n",
      " ('total_payments', 20.257184998123947),\n",
      " ('loan_advances', 17.717873579243303),\n",
      " ('bonus', 15.946248696687636),\n",
      " ('restricted_stock_deferred', 11.222175285805275),\n",
      " ('deferred_income', 9.622212164304681),\n",
      " ('total_stock_value', 8.94793888429267),\n",
      " ('expenses', 8.570823078730982),\n",
      " ('exercised_stock_options', 8.277457991443592),\n",
      " ('other', 7.06671086131975),\n",
      " ('long_term_incentive', 5.815328001904875),\n",
      " ('restricted_stock', 5.041257378669378),\n",
      " ('director_fees', 4.07034300643441),\n",
      " ('to_messages', 2.963990314926179),\n",
      " ('from_poi_to_this_person', 2.295183195738),\n",
      " ('from_messages', 1.9332910310121656),\n",
      " ('from_this_person_to_poi', 1.5634425546665953),\n",
      " ('shared_receipt_with_poi', 0.2403346453522309),\n",
      " ('fraction_from_poi', 0.18071817710224897)]\n"
     ]
    }
   ],
   "source": [
    "import pprint\n",
    "from sklearn.feature_selection import SelectKBest, f_classif\n",
    "selector = SelectKBest(f_classif, k = 10)\n",
    "selector.fit(features1, labels1)\n",
    "scores = zip(features_list_n[1:], selector.scores_)\n",
    "sorted_scores = sorted(scores, key = takeSecond, reverse = True)\n",
    "pprint.pprint('SelectKBest scores: ')\n",
    "pprint.pprint( sorted_scores)"
   ]
  },
  {
   "cell_type": "code",
   "execution_count": 44,
   "metadata": {},
   "outputs": [
    {
     "data": {
      "text/html": [
       "<div>\n",
       "<style scoped>\n",
       "    .dataframe tbody tr th:only-of-type {\n",
       "        vertical-align: middle;\n",
       "    }\n",
       "\n",
       "    .dataframe tbody tr th {\n",
       "        vertical-align: top;\n",
       "    }\n",
       "\n",
       "    .dataframe thead th {\n",
       "        text-align: right;\n",
       "    }\n",
       "</style>\n",
       "<table border=\"1\" class=\"dataframe\">\n",
       "  <thead>\n",
       "    <tr style=\"text-align: right;\">\n",
       "      <th></th>\n",
       "      <th>nb_feature</th>\n",
       "      <th>precision</th>\n",
       "      <th>recall</th>\n",
       "      <th>f1</th>\n",
       "      <th>f2</th>\n",
       "    </tr>\n",
       "  </thead>\n",
       "  <tbody>\n",
       "    <tr>\n",
       "      <th>0</th>\n",
       "      <td>1.0</td>\n",
       "      <td>0.269231</td>\n",
       "      <td>0.1400</td>\n",
       "      <td>0.184211</td>\n",
       "      <td>0.154867</td>\n",
       "    </tr>\n",
       "    <tr>\n",
       "      <th>1</th>\n",
       "      <td>2.0</td>\n",
       "      <td>0.292969</td>\n",
       "      <td>0.1875</td>\n",
       "      <td>0.228659</td>\n",
       "      <td>0.202047</td>\n",
       "    </tr>\n",
       "    <tr>\n",
       "      <th>2</th>\n",
       "      <td>3.0</td>\n",
       "      <td>0.324343</td>\n",
       "      <td>0.2405</td>\n",
       "      <td>0.276199</td>\n",
       "      <td>0.253612</td>\n",
       "    </tr>\n",
       "    <tr>\n",
       "      <th>3</th>\n",
       "      <td>4.0</td>\n",
       "      <td>0.374517</td>\n",
       "      <td>0.2910</td>\n",
       "      <td>0.327518</td>\n",
       "      <td>0.304584</td>\n",
       "    </tr>\n",
       "    <tr>\n",
       "      <th>4</th>\n",
       "      <td>5.0</td>\n",
       "      <td>0.404439</td>\n",
       "      <td>0.3280</td>\n",
       "      <td>0.362231</td>\n",
       "      <td>0.340885</td>\n",
       "    </tr>\n",
       "  </tbody>\n",
       "</table>\n",
       "</div>"
      ],
      "text/plain": [
       "   nb_feature  precision  recall        f1        f2\n",
       "0         1.0   0.269231  0.1400  0.184211  0.154867\n",
       "1         2.0   0.292969  0.1875  0.228659  0.202047\n",
       "2         3.0   0.324343  0.2405  0.276199  0.253612\n",
       "3         4.0   0.374517  0.2910  0.327518  0.304584\n",
       "4         5.0   0.404439  0.3280  0.362231  0.340885"
      ]
     },
     "execution_count": 44,
     "metadata": {},
     "output_type": "execute_result"
    }
   ],
   "source": [
    "import pandas as pd\n",
    "result=pd.DataFrame([nb_feature_store,precision_result,recall_result,f1_result,f2_result]).T\n",
    "result.columns=['nb_feature','precision','recall','f1','f2']\n",
    "result.head()"
   ]
  },
  {
   "cell_type": "markdown",
   "metadata": {},
   "source": [
    "### b. K-Nearest Neighbors\n",
    "Let's try the K-Nearest Neighbors algorithm. Before training this algorithm, it's important to rescale the features because the algorithm compute the euclidian distance and it will be more affected my large features."
   ]
  },
  {
   "cell_type": "code",
   "execution_count": 409,
   "metadata": {},
   "outputs": [],
   "source": [
    "\n",
    "from sklearn.preprocessing import MinMaxScaler\n",
    "min_max_scaler=MinMaxScaler()\n",
    "features=min_max_scaler.fit_transform(features1)"
   ]
  },
  {
   "cell_type": "markdown",
   "metadata": {},
   "source": [
    "One parameter which is important to tune for the k-Nearest-neighbors is the number of neighbors. If we set n_neighbors=1, the person is going to be labeled based on the closest neighbor. If we set n_neighbors=10, the person is going to labeled based on the 10 nearest neighbors. When the number of neighbors is small, the bias is low, however the variance is high. That's why it's important to find the right trade-off by using a cross-validation method to tune the parameter."
   ]
  },
  {
   "cell_type": "code",
   "execution_count": 410,
   "metadata": {},
   "outputs": [
    {
     "ename": "KeyboardInterrupt",
     "evalue": "",
     "output_type": "error",
     "traceback": [
      "\u001b[1;31m---------------------------------------------------------------------------\u001b[0m",
      "\u001b[1;31mKeyboardInterrupt\u001b[0m                         Traceback (most recent call last)",
      "\u001b[1;32m<ipython-input-410-ded9e2fbc78e>\u001b[0m in \u001b[0;36m<module>\u001b[1;34m()\u001b[0m\n\u001b[0;32m     23\u001b[0m         \u001b[0mclf\u001b[0m \u001b[1;33m=\u001b[0m\u001b[0mKNeighborsClassifier\u001b[0m\u001b[1;33m(\u001b[0m\u001b[0mn_neighbors\u001b[0m\u001b[1;33m=\u001b[0m\u001b[0mnb_neighbors\u001b[0m\u001b[1;33m[\u001b[0m\u001b[0mk\u001b[0m\u001b[1;33m]\u001b[0m\u001b[1;33m)\u001b[0m\u001b[1;33m\u001b[0m\u001b[0m\n\u001b[0;32m     24\u001b[0m         \u001b[1;31m#We use cross-validation and we calculate precision and recall metrics\u001b[0m\u001b[1;33m\u001b[0m\u001b[1;33m\u001b[0m\u001b[0m\n\u001b[1;32m---> 25\u001b[1;33m         \u001b[0mprecision\u001b[0m\u001b[1;33m,\u001b[0m\u001b[0mrecall\u001b[0m\u001b[1;33m,\u001b[0m\u001b[0mf1\u001b[0m\u001b[1;33m,\u001b[0m\u001b[0mf2\u001b[0m\u001b[1;33m=\u001b[0m\u001b[0mtest_classifier\u001b[0m\u001b[1;33m(\u001b[0m\u001b[0mclf\u001b[0m\u001b[1;33m,\u001b[0m \u001b[0mlabels1\u001b[0m\u001b[1;33m,\u001b[0m \u001b[0mfeatures1\u001b[0m\u001b[1;33m,\u001b[0m\u001b[0mnb_features\u001b[0m\u001b[1;33m,\u001b[0m \u001b[0mfolds\u001b[0m \u001b[1;33m=\u001b[0m \u001b[1;36m1000\u001b[0m\u001b[1;33m)\u001b[0m\u001b[1;33m\u001b[0m\u001b[0m\n\u001b[0m\u001b[0;32m     26\u001b[0m \u001b[1;33m\u001b[0m\u001b[0m\n\u001b[0;32m     27\u001b[0m         \u001b[1;31m#We record the evaluation metrics for each case\u001b[0m\u001b[1;33m\u001b[0m\u001b[1;33m\u001b[0m\u001b[0m\n",
      "\u001b[1;32m<ipython-input-375-054574ba10ec>\u001b[0m in \u001b[0;36mtest_classifier\u001b[1;34m(clf, labels, features, nb_features, folds)\u001b[0m\n\u001b[0;32m     32\u001b[0m         \u001b[1;31m### fit the classifier using training set, and test on test set\u001b[0m\u001b[1;33m\u001b[0m\u001b[1;33m\u001b[0m\u001b[0m\n\u001b[0;32m     33\u001b[0m         \u001b[0mclf\u001b[0m\u001b[1;33m.\u001b[0m\u001b[0mfit\u001b[0m\u001b[1;33m(\u001b[0m\u001b[0mfeatures_train_transformed\u001b[0m\u001b[1;33m,\u001b[0m \u001b[0mlabels_train\u001b[0m\u001b[1;33m)\u001b[0m\u001b[1;33m\u001b[0m\u001b[0m\n\u001b[1;32m---> 34\u001b[1;33m         \u001b[0mpredictions\u001b[0m \u001b[1;33m=\u001b[0m \u001b[0mclf\u001b[0m\u001b[1;33m.\u001b[0m\u001b[0mpredict\u001b[0m\u001b[1;33m(\u001b[0m\u001b[0mfeatures_test_transformed\u001b[0m\u001b[1;33m)\u001b[0m\u001b[1;33m\u001b[0m\u001b[0m\n\u001b[0m\u001b[0;32m     35\u001b[0m         \u001b[1;32mfor\u001b[0m \u001b[0mprediction\u001b[0m\u001b[1;33m,\u001b[0m \u001b[0mtruth\u001b[0m \u001b[1;32min\u001b[0m \u001b[0mzip\u001b[0m\u001b[1;33m(\u001b[0m\u001b[0mpredictions\u001b[0m\u001b[1;33m,\u001b[0m \u001b[0mlabels_test\u001b[0m\u001b[1;33m)\u001b[0m\u001b[1;33m:\u001b[0m\u001b[1;33m\u001b[0m\u001b[0m\n\u001b[0;32m     36\u001b[0m             \u001b[1;32mif\u001b[0m \u001b[0mprediction\u001b[0m \u001b[1;33m==\u001b[0m \u001b[1;36m0\u001b[0m \u001b[1;32mand\u001b[0m \u001b[0mtruth\u001b[0m \u001b[1;33m==\u001b[0m \u001b[1;36m0\u001b[0m\u001b[1;33m:\u001b[0m\u001b[1;33m\u001b[0m\u001b[0m\n",
      "\u001b[1;32m~\\AppData\\Local\\Continuum\\anaconda3\\lib\\site-packages\\sklearn\\neighbors\\classification.py\u001b[0m in \u001b[0;36mpredict\u001b[1;34m(self, X)\u001b[0m\n\u001b[0;32m    158\u001b[0m         \u001b[1;32mfor\u001b[0m \u001b[0mk\u001b[0m\u001b[1;33m,\u001b[0m \u001b[0mclasses_k\u001b[0m \u001b[1;32min\u001b[0m \u001b[0menumerate\u001b[0m\u001b[1;33m(\u001b[0m\u001b[0mclasses_\u001b[0m\u001b[1;33m)\u001b[0m\u001b[1;33m:\u001b[0m\u001b[1;33m\u001b[0m\u001b[0m\n\u001b[0;32m    159\u001b[0m             \u001b[1;32mif\u001b[0m \u001b[0mweights\u001b[0m \u001b[1;32mis\u001b[0m \u001b[1;32mNone\u001b[0m\u001b[1;33m:\u001b[0m\u001b[1;33m\u001b[0m\u001b[0m\n\u001b[1;32m--> 160\u001b[1;33m                 \u001b[0mmode\u001b[0m\u001b[1;33m,\u001b[0m \u001b[0m_\u001b[0m \u001b[1;33m=\u001b[0m \u001b[0mstats\u001b[0m\u001b[1;33m.\u001b[0m\u001b[0mmode\u001b[0m\u001b[1;33m(\u001b[0m\u001b[0m_y\u001b[0m\u001b[1;33m[\u001b[0m\u001b[0mneigh_ind\u001b[0m\u001b[1;33m,\u001b[0m \u001b[0mk\u001b[0m\u001b[1;33m]\u001b[0m\u001b[1;33m,\u001b[0m \u001b[0maxis\u001b[0m\u001b[1;33m=\u001b[0m\u001b[1;36m1\u001b[0m\u001b[1;33m)\u001b[0m\u001b[1;33m\u001b[0m\u001b[0m\n\u001b[0m\u001b[0;32m    161\u001b[0m             \u001b[1;32melse\u001b[0m\u001b[1;33m:\u001b[0m\u001b[1;33m\u001b[0m\u001b[0m\n\u001b[0;32m    162\u001b[0m                 \u001b[0mmode\u001b[0m\u001b[1;33m,\u001b[0m \u001b[0m_\u001b[0m \u001b[1;33m=\u001b[0m \u001b[0mweighted_mode\u001b[0m\u001b[1;33m(\u001b[0m\u001b[0m_y\u001b[0m\u001b[1;33m[\u001b[0m\u001b[0mneigh_ind\u001b[0m\u001b[1;33m,\u001b[0m \u001b[0mk\u001b[0m\u001b[1;33m]\u001b[0m\u001b[1;33m,\u001b[0m \u001b[0mweights\u001b[0m\u001b[1;33m,\u001b[0m \u001b[0maxis\u001b[0m\u001b[1;33m=\u001b[0m\u001b[1;36m1\u001b[0m\u001b[1;33m)\u001b[0m\u001b[1;33m\u001b[0m\u001b[0m\n",
      "\u001b[1;32m~\\AppData\\Local\\Continuum\\anaconda3\\lib\\site-packages\\scipy\\stats\\stats.py\u001b[0m in \u001b[0;36mmode\u001b[1;34m(a, axis, nan_policy)\u001b[0m\n\u001b[0;32m    436\u001b[0m         \u001b[1;32mreturn\u001b[0m \u001b[0mmstats_basic\u001b[0m\u001b[1;33m.\u001b[0m\u001b[0mmode\u001b[0m\u001b[1;33m(\u001b[0m\u001b[0ma\u001b[0m\u001b[1;33m,\u001b[0m \u001b[0maxis\u001b[0m\u001b[1;33m)\u001b[0m\u001b[1;33m\u001b[0m\u001b[0m\n\u001b[0;32m    437\u001b[0m \u001b[1;33m\u001b[0m\u001b[0m\n\u001b[1;32m--> 438\u001b[1;33m     \u001b[0mscores\u001b[0m \u001b[1;33m=\u001b[0m \u001b[0mnp\u001b[0m\u001b[1;33m.\u001b[0m\u001b[0munique\u001b[0m\u001b[1;33m(\u001b[0m\u001b[0mnp\u001b[0m\u001b[1;33m.\u001b[0m\u001b[0mravel\u001b[0m\u001b[1;33m(\u001b[0m\u001b[0ma\u001b[0m\u001b[1;33m)\u001b[0m\u001b[1;33m)\u001b[0m       \u001b[1;31m# get ALL unique values\u001b[0m\u001b[1;33m\u001b[0m\u001b[0m\n\u001b[0m\u001b[0;32m    439\u001b[0m     \u001b[0mtestshape\u001b[0m \u001b[1;33m=\u001b[0m \u001b[0mlist\u001b[0m\u001b[1;33m(\u001b[0m\u001b[0ma\u001b[0m\u001b[1;33m.\u001b[0m\u001b[0mshape\u001b[0m\u001b[1;33m)\u001b[0m\u001b[1;33m\u001b[0m\u001b[0m\n\u001b[0;32m    440\u001b[0m     \u001b[0mtestshape\u001b[0m\u001b[1;33m[\u001b[0m\u001b[0maxis\u001b[0m\u001b[1;33m]\u001b[0m \u001b[1;33m=\u001b[0m \u001b[1;36m1\u001b[0m\u001b[1;33m\u001b[0m\u001b[0m\n",
      "\u001b[1;32m~\\AppData\\Local\\Continuum\\anaconda3\\lib\\site-packages\\numpy\\lib\\arraysetops.py\u001b[0m in \u001b[0;36munique\u001b[1;34m(ar, return_index, return_inverse, return_counts, axis)\u001b[0m\n\u001b[0;32m    221\u001b[0m     \u001b[0mar\u001b[0m \u001b[1;33m=\u001b[0m \u001b[0mnp\u001b[0m\u001b[1;33m.\u001b[0m\u001b[0masanyarray\u001b[0m\u001b[1;33m(\u001b[0m\u001b[0mar\u001b[0m\u001b[1;33m)\u001b[0m\u001b[1;33m\u001b[0m\u001b[0m\n\u001b[0;32m    222\u001b[0m     \u001b[1;32mif\u001b[0m \u001b[0maxis\u001b[0m \u001b[1;32mis\u001b[0m \u001b[1;32mNone\u001b[0m\u001b[1;33m:\u001b[0m\u001b[1;33m\u001b[0m\u001b[0m\n\u001b[1;32m--> 223\u001b[1;33m         \u001b[1;32mreturn\u001b[0m \u001b[0m_unique1d\u001b[0m\u001b[1;33m(\u001b[0m\u001b[0mar\u001b[0m\u001b[1;33m,\u001b[0m \u001b[0mreturn_index\u001b[0m\u001b[1;33m,\u001b[0m \u001b[0mreturn_inverse\u001b[0m\u001b[1;33m,\u001b[0m \u001b[0mreturn_counts\u001b[0m\u001b[1;33m)\u001b[0m\u001b[1;33m\u001b[0m\u001b[0m\n\u001b[0m\u001b[0;32m    224\u001b[0m     \u001b[1;32mif\u001b[0m \u001b[1;32mnot\u001b[0m \u001b[1;33m(\u001b[0m\u001b[1;33m-\u001b[0m\u001b[0mar\u001b[0m\u001b[1;33m.\u001b[0m\u001b[0mndim\u001b[0m \u001b[1;33m<=\u001b[0m \u001b[0maxis\u001b[0m \u001b[1;33m<\u001b[0m \u001b[0mar\u001b[0m\u001b[1;33m.\u001b[0m\u001b[0mndim\u001b[0m\u001b[1;33m)\u001b[0m\u001b[1;33m:\u001b[0m\u001b[1;33m\u001b[0m\u001b[0m\n\u001b[0;32m    225\u001b[0m         \u001b[1;32mraise\u001b[0m \u001b[0mValueError\u001b[0m\u001b[1;33m(\u001b[0m\u001b[1;34m'Invalid axis kwarg specified for unique'\u001b[0m\u001b[1;33m)\u001b[0m\u001b[1;33m\u001b[0m\u001b[0m\n",
      "\u001b[1;32m~\\AppData\\Local\\Continuum\\anaconda3\\lib\\site-packages\\numpy\\lib\\arraysetops.py\u001b[0m in \u001b[0;36m_unique1d\u001b[1;34m(ar, return_index, return_inverse, return_counts)\u001b[0m\n\u001b[0;32m    259\u001b[0m     \u001b[0mFind\u001b[0m \u001b[0mthe\u001b[0m \u001b[0munique\u001b[0m \u001b[0melements\u001b[0m \u001b[0mof\u001b[0m \u001b[0man\u001b[0m \u001b[0marray\u001b[0m\u001b[1;33m,\u001b[0m \u001b[0mignoring\u001b[0m \u001b[0mshape\u001b[0m\u001b[1;33m.\u001b[0m\u001b[1;33m\u001b[0m\u001b[0m\n\u001b[0;32m    260\u001b[0m     \"\"\"\n\u001b[1;32m--> 261\u001b[1;33m     \u001b[0mar\u001b[0m \u001b[1;33m=\u001b[0m \u001b[0mnp\u001b[0m\u001b[1;33m.\u001b[0m\u001b[0masanyarray\u001b[0m\u001b[1;33m(\u001b[0m\u001b[0mar\u001b[0m\u001b[1;33m)\u001b[0m\u001b[1;33m.\u001b[0m\u001b[0mflatten\u001b[0m\u001b[1;33m(\u001b[0m\u001b[1;33m)\u001b[0m\u001b[1;33m\u001b[0m\u001b[0m\n\u001b[0m\u001b[0;32m    262\u001b[0m \u001b[1;33m\u001b[0m\u001b[0m\n\u001b[0;32m    263\u001b[0m     \u001b[0moptional_indices\u001b[0m \u001b[1;33m=\u001b[0m \u001b[0mreturn_index\u001b[0m \u001b[1;32mor\u001b[0m \u001b[0mreturn_inverse\u001b[0m\u001b[1;33m\u001b[0m\u001b[0m\n",
      "\u001b[1;31mKeyboardInterrupt\u001b[0m: "
     ]
    }
   ],
   "source": [
    "from sklearn.neighbors import KNeighborsClassifier\n",
    "\n",
    "nb_features_orig=len(features1[1])\n",
    "\n",
    "#For each case, we want to record the different metrics.\n",
    "precision_result=[]\n",
    "recall_result=[]\n",
    "f1_result=[]\n",
    "f2_result=[]\n",
    "\n",
    "nb_neighbors_store=[]\n",
    "nb_feature_store=[]\n",
    "\n",
    "#Number of neighbours tested\n",
    "nb_neighbors=[1,2,3,5,10,20,30]\n",
    "\n",
    "#We calculate the evaluation metrics for k best number of features selected in the model.\n",
    "for nb_features in range(1,nb_features_orig+1):\n",
    "    #Number of neighbours\n",
    "    for k in range(len(nb_neighbors)):\n",
    "        \n",
    "        #classifier\n",
    "        clf =KNeighborsClassifier(n_neighbors=nb_neighbors[k])\n",
    "        #We use cross-validation and we calculate precision and recall metrics\n",
    "        precision,recall,f1,f2=test_classifier(clf, labels1, features1,nb_features, folds = 1000)\n",
    "        \n",
    "        #We record the evaluation metrics for each case\n",
    "        precision_result.append(precision)\n",
    "        recall_result.append(recall)     \n",
    "        f1_result.append(f1)\n",
    "        f2_result.append(f2)\n",
    "        nb_feature_store.append(nb_features)\n",
    "        nb_neighbors_store.append(nb_neighbors[k])"
   ]
  },
  {
   "cell_type": "code",
   "execution_count": null,
   "metadata": {},
   "outputs": [],
   "source": [
    "import pandas as pd\n",
    "result=pd.DataFrame([nb_feature_store,nb_neighbors_store,precision_result,recall_result,f1_result,f2_result]).T\n",
    "result.columns=['nb_feature','nb_neighbors','precision','recall','f1','f2']\n",
    "result.head()"
   ]
  },
  {
   "cell_type": "code",
   "execution_count": null,
   "metadata": {},
   "outputs": [],
   "source": []
  },
  {
   "cell_type": "markdown",
   "metadata": {},
   "source": [
    "First, we want to determine how many features we want to select to have the best precision and recall.\n",
    "\n",
    "We select the best F2-score for each number of features included in the model. We use the F2 score instead of F1 socre because it puts more weight on recall. This is important because recall tends to be lower, and we want to find precision and recall higher than 0.3."
   ]
  },
  {
   "cell_type": "code",
   "execution_count": null,
   "metadata": {},
   "outputs": [],
   "source": [
    "result_sort_by_f2=result.sort_values('f2',ascending=False)\n",
    "result_group=result_sort_by_f2.groupby('nb_feature')"
   ]
  },
  {
   "cell_type": "code",
   "execution_count": null,
   "metadata": {},
   "outputs": [],
   "source": [
    "\n",
    "top_param_by_nbfeature=result_group.head(1).sort_values('nb_feature')\n",
    "top_param_by_nbfeature.head()"
   ]
  },
  {
   "cell_type": "code",
   "execution_count": null,
   "metadata": {},
   "outputs": [],
   "source": [
    "plt.plot(top_param_by_nbfeature.nb_feature,top_param_by_nbfeature.precision,c='red',label='precision')\n",
    "plt.plot(top_param_by_nbfeature.nb_feature,top_param_by_nbfeature.recall,c='blue',label='recall')\n",
    "plt.xlabel(\"Number of features used in the model\")\n",
    "plt.legend()\n",
    "plt.show()"
   ]
  },
  {
   "cell_type": "code",
   "execution_count": null,
   "metadata": {},
   "outputs": [],
   "source": [
    "\n",
    "top_param_by_nbfeaturetop_para [top_param_by_nbfeature.nb_feature==4]"
   ]
  },
  {
   "cell_type": "code",
   "execution_count": null,
   "metadata": {},
   "outputs": [],
   "source": [
    "from sklearn import tree\n",
    "\n",
    "nb_features_orig=len(features1[1])\n",
    "\n",
    "#For each case, we want to record the different metrics.\n",
    "precision_result=[]\n",
    "recall_result=[]\n",
    "f1_result=[]\n",
    "f2_result=[]\n",
    "nb_feature_store=[]\n",
    "\n",
    "\n",
    "#Param\n",
    "dt_param = {'criterion':('gini', 'entropy'),\n",
    "'splitter':('best','random')}\n",
    "\n",
    "#We calculate the evaluation metrics for k best number of features selected in the model.\n",
    "for nb_features in range(1,nb_features_orig+1):\n",
    "    #Number of neighbours\n",
    "           \n",
    "        #classifier\n",
    "        clf = tree.DecisionTreeClassifier()\n",
    "        #We use cross-validation and we calculate precision and recall metrics\n",
    "        precision,recall,f1,f2=test_classifier(clf, labels1, features1,nb_features, folds = 1000)\n",
    "        \n",
    "        #We record the evaluation metrics for each case\n",
    "        precision_result.append(precision)\n",
    "        recall_result.append(recall)     \n",
    "        f1_result.append(f1)\n",
    "        f2_result.append(f2)\n",
    "        nb_feature_store.append(nb_features)\n",
    "\n",
    "\n"
   ]
  },
  {
   "cell_type": "code",
   "execution_count": null,
   "metadata": {},
   "outputs": [],
   "source": [
    "plt.plot(nb_feature_store,precision_result,c='red',label='precision')\n",
    "plt.plot(nb_feature_store,recall_result,c='blue',label='recall')\n",
    "plt.xlabel(\"Number of features used in the model\")\n",
    "plt.title(\"Precision and recall by number of features included in the model\")\n",
    "plt.legend()\n",
    "plt.show()"
   ]
  },
  {
   "cell_type": "code",
   "execution_count": null,
   "metadata": {},
   "outputs": [],
   "source": [
    "import pandas as pd\n",
    "result=pd.DataFrame([nb_feature_store,precision_result,recall_result,f1_result,f2_result]).T\n",
    "result.columns=['nb_feature','precision','recall','f1','f2']\n",
    "result.head(20)"
   ]
  },
  {
   "cell_type": "markdown",
   "metadata": {},
   "source": [
    "### 5. Conclusion\n",
    "The goal of this project was to achieve a precision and recall higher than 0.3. That's why we will use Gaussian Naive Bayes algorithm to identify persons of interest. We will include in the model the 6 following features:\n",
    "\n"
   ]
  },
  {
   "cell_type": "markdown",
   "metadata": {},
   "source": [
    "### 6. Udacity Tester\n",
    "What's the result return by the tester provided by Udacity when we apply the algorithm selected above?"
   ]
  },
  {
   "cell_type": "code",
   "execution_count": 97,
   "metadata": {},
   "outputs": [
    {
     "data": {
      "text/plain": [
       "GaussianNB(priors=None)"
      ]
     },
     "execution_count": 97,
     "metadata": {},
     "output_type": "execute_result"
    }
   ],
   "source": [
    "data_dict = pickle.load(open(\"final_project_dataset.pkl\", \"rb\") )\n",
    "\n",
    "#We remove the outlier 'TOTAL'.\n",
    "data_dict.pop('TOTAL',0)\n",
    "\n",
    "#We create the feature 'fraction_from_poi' and 'fraction_to_poi'.\n",
    "def computeFraction(poi_messages, all_messages):\n",
    "    \"\"\" given a number messages to/from POI (numerator) \n",
    "        and number of all messages to/from a person (denominator),\n",
    "        return the fraction of messages to/from that person\n",
    "        that are from/to a POI\n",
    "   \"\"\"\n",
    "    fraction = 0.\n",
    "    \n",
    "    if poi_messages=='NaN' or all_messages=='NaN':\n",
    "        fraction = 0.\n",
    "    else:  \n",
    "        fraction=float(poi_messages)/float(all_messages)\n",
    "\n",
    "    return fraction\n",
    "\n",
    "\n",
    "\n",
    "\n",
    "\n",
    "for name in data_dict:\n",
    "\n",
    "    data_point = data_dict[name]\n",
    "    from_poi_to_this_person = data_point[\"from_poi_to_this_person\"]\n",
    "    to_messages = data_point[\"to_messages\"]\n",
    "    fraction_from_poi = computeFraction( from_poi_to_this_person, to_messages )\n",
    "    data_point[\"fraction_from_poi\"] = fraction_from_poi\n",
    "\n",
    "\n",
    "    from_this_person_to_poi = data_point[\"from_this_person_to_poi\"]\n",
    "    from_messages = data_point[\"from_messages\"]\n",
    "    fraction_to_poi = computeFraction( from_this_person_to_poi, from_messages )\n",
    "    data_point[\"fraction_to_poi\"] = fraction_to_poi\n",
    "\n",
    "#We select the features\n",
    "features_list = [\"poi\",\"salary\", \"deferral_payments\",\"total_payments\",\"loan_advances\",\"bonus\",\"restricted_stock_deferred\"]\n",
    "\n",
    "my_dataset=data_dict\n",
    "data = featureFormat(data_dict, features_list, sort_keys = True)\n",
    "labels, features = targetFeatureSplit(data)\n",
    "\n",
    "#We select the classifier, Gaussian Naive Bayes.\n",
    "clf=GaussianNB()\n",
    "\n",
    "#We train the classifier.\n",
    "clf.fit(data,labels)\n",
    "\n"
   ]
  },
  {
   "cell_type": "code",
   "execution_count": 85,
   "metadata": {},
   "outputs": [],
   "source": [
    "sys.path.append(\"../final_project/\")\n",
    "from tester import load_classifier_and_data,test_classifier\n",
    "dump_classifier_and_data(clf, my_dataset, features_list)\n",
    "\n",
    "\n",
    "#pickle.dump( clf, open(\"my_classifier.pkl\", \"wb\") )"
   ]
  }
 ],
 "metadata": {
  "kernelspec": {
   "display_name": "Python 3",
   "language": "python",
   "name": "python3"
  },
  "language_info": {
   "codemirror_mode": {
    "name": "ipython",
    "version": 3
   },
   "file_extension": ".py",
   "mimetype": "text/x-python",
   "name": "python",
   "nbconvert_exporter": "python",
   "pygments_lexer": "ipython3",
   "version": "3.6.4"
  }
 },
 "nbformat": 4,
 "nbformat_minor": 2
}
