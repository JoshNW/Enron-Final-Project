{
 "cells": [
  {
   "cell_type": "markdown",
   "metadata": {},
   "source": [
    "# Identity Fraud From Enron Email"
   ]
  },
  {
   "cell_type": "markdown",
   "metadata": {},
   "source": [
    "## 1. Goal of the Project\n",
    "\n",
    "### Understanding the Dataset and Question\n",
    "\n",
    "The purpose of this project is to use machine learning tools to identify Enron \n",
    "employees (Persons of Interest -POI) who have committed fraud based on the public Enron \n",
    "financial and email dataset. Enron is an energy trading company that had the largest case \n",
    "of corporate fraud in US history. POIs are one of 3: indicted, settled without admitting guilt,\n",
    "or testified in exchange of immunity.\n",
    "\n",
    "#### The Dataset\n",
    "\n",
    "The dataset contains about 146 users (18 of them are considered POIs, while 128 are non-POIs) mostly real emails exchanged by senior management of Enron. We can use machine learning on this dataset to answer questions like \"can we identify patterns in the emails?\", using regression we will be able to understand the relationship between the people's salary and their bonuses for example, and using clustering we can identify who was a member of the board of directors, and who was just an employee.\n",
    "\n",
    "The dataset has 21 features, that are either financial, email or (POI/non-POI)-related."
   ]
  },
  {
   "cell_type": "code",
   "execution_count": 10,
   "metadata": {},
   "outputs": [
    {
     "name": "stdout",
     "output_type": "stream",
     "text": [
      "Populating the interactive namespace from numpy and matplotlib\n",
      "Number of people in the Enron dataset: 146\n"
     ]
    }
   ],
   "source": [
    "#!/usr/bin/python\n",
    "import warnings; warnings.simplefilter('ignore')\n",
    "import sys\n",
    "import pickle\n",
    "from time import time\n",
    "import numpy as np\n",
    "import matplotlib.pyplot as plt\n",
    "from __future__ import division\n",
    "\n",
    "\n",
    "sys.path.append(\"../tools/\")\n",
    "\n",
    "import os\n",
    "#os.chdir('C:/JBasineni/Mach_learn/ud120-projects-master/ud120-projects-master/final_project')\n",
    "\n",
    "# Use seaborn for plotting defaults\n",
    "import seaborn as sns; sns.set()\n",
    "\n",
    "%pylab inline\n",
    "\n",
    "from feature_format import featureFormat, targetFeatureSplit\n",
    "from tester import dump_classifier_and_data\n",
    "\n",
    "enron_data = pickle.load(open(\"final_project_dataset.pkl\", \"rb\") )\n",
    "print ('Number of people in the Enron dataset: {0}'.format(len(enron_data)))\n",
    "\n",
    "\n"
   ]
  },
  {
   "cell_type": "code",
   "execution_count": 11,
   "metadata": {},
   "outputs": [
    {
     "name": "stdout",
     "output_type": "stream",
     "text": [
      "Number of people in the dataset:  146\n",
      "Number of POI's: 18\n",
      "Proportion of POIs in the dataset: 0.1232876712328767\n"
     ]
    }
   ],
   "source": [
    "nb_people=len(enron_data)\n",
    "print ('Number of people in the dataset: ',nb_people)\n",
    "\n",
    "pois = [x for x, y in enron_data.items() if y['poi']]\n",
    "print ('Number of POI\\'s: {0}'.format(len(pois)))\n",
    "print (\"Proportion of POIs in the dataset:\",len(pois)/nb_people)\n",
    "#nb_poi=sum([data_dict[key]['poi']==1 for key in data_dict])\n",
    "#print (\"Number of persons of interest (POI): \",nb_poi)\n",
    "#print (\"Proportion of POIs in the dataset:\",nb_poi/nb_people)"
   ]
  },
  {
   "cell_type": "markdown",
   "metadata": {},
   "source": [
    "\n",
    "We observe that out of 146 persons included in the data set, only 18 persons are considered as persons of interest, which reprents 12.3%. The data set is very unbalanced.\n",
    "\n",
    "How many features are available in the data set?\n",
    "\n",
    "The aggregated Enron email + financial dataset is stored in a dictionary, where each key in the dictionary is a person’s name, and the value is a dictionary containing all the features of that person."
   ]
  },
  {
   "cell_type": "code",
   "execution_count": 12,
   "metadata": {},
   "outputs": [
    {
     "name": "stdout",
     "output_type": "stream",
     "text": [
      "Number of features for each person in the Enron dataset: 21\n",
      " \n",
      "Features Available \n",
      "['salary',\n",
      " 'to_messages',\n",
      " 'deferral_payments',\n",
      " 'total_payments',\n",
      " 'loan_advances',\n",
      " 'bonus',\n",
      " 'email_address',\n",
      " 'restricted_stock_deferred',\n",
      " 'deferred_income',\n",
      " 'total_stock_value',\n",
      " 'expenses',\n",
      " 'from_poi_to_this_person',\n",
      " 'exercised_stock_options',\n",
      " 'from_messages',\n",
      " 'other',\n",
      " 'from_this_person_to_poi',\n",
      " 'poi',\n",
      " 'long_term_incentive',\n",
      " 'shared_receipt_with_poi',\n",
      " 'restricted_stock',\n",
      " 'director_fees']\n"
     ]
    }
   ],
   "source": [
    "# No of features in the ENRON dataset\n",
    "import pprint\n",
    "print ('Number of features for each person in the Enron dataset: {0}'.format(len(list(enron_data.values())[0])))\n",
    "print (' ')\n",
    "print ('Features Available ')\n",
    "#pprint.pprint(list(enron_data.values())[1] )\n",
    "pprint.pprint(list(enron_data['PRENTICE JAMES'].keys()))\n",
    "\n",
    "### features_list is a list of strings, each of which is a feature name.\n",
    "### The first feature must be \"poi\".\n",
    "features_list = ['poi','salary', 'expenses', 'total_stock_value', 'bonus', 'from_poi_to_this_person', 'shared_receipt_with_poi'] # You will need to use more features\n",
    "\n",
    "financial_features = ['salary', 'deferral_payments', 'total_payments', 'loan_advances', 'bonus', 'restricted_stock_deferred', 'deferred_income', 'total_stock_value',\n",
    "'expenses', 'exercised_stock_options', 'other', 'long_term_incentive', 'restricted_stock', 'director_fees']\n",
    "email_features = ['to_messages', 'email_address', 'from_poi_to_this_person', 'from_messages', 'from_this_person_to_poi', 'shared_receipt_with_poi']\n",
    "POI_label = ['poi']\n",
    "total_features = POI_label + financial_features + email_features"
   ]
  },
  {
   "cell_type": "markdown",
   "metadata": {},
   "source": [
    "####   Outlier investigation\n",
    "Are there outliers in the data set? We can start by just exploring the data if we can identify any outliers on sight."
   ]
  },
  {
   "cell_type": "code",
   "execution_count": 13,
   "metadata": {},
   "outputs": [
    {
     "name": "stdout",
     "output_type": "stream",
     "text": [
      "{'bonus': 'NaN',\n",
      " 'deferral_payments': 'NaN',\n",
      " 'deferred_income': 'NaN',\n",
      " 'director_fees': 'NaN',\n",
      " 'email_address': 'NaN',\n",
      " 'exercised_stock_options': 'NaN',\n",
      " 'expenses': 'NaN',\n",
      " 'from_messages': 'NaN',\n",
      " 'from_poi_to_this_person': 'NaN',\n",
      " 'from_this_person_to_poi': 'NaN',\n",
      " 'loan_advances': 'NaN',\n",
      " 'long_term_incentive': 'NaN',\n",
      " 'other': 362096,\n",
      " 'poi': False,\n",
      " 'restricted_stock': 'NaN',\n",
      " 'restricted_stock_deferred': 'NaN',\n",
      " 'salary': 'NaN',\n",
      " 'shared_receipt_with_poi': 'NaN',\n",
      " 'to_messages': 'NaN',\n",
      " 'total_payments': 362096,\n",
      " 'total_stock_value': 'NaN'}\n"
     ]
    }
   ],
   "source": [
    "#Explore the names of the people\n",
    "\n",
    "#pprint.pprint(list(enron_data.keys()))\n",
    "pprint.pprint(enron_data['THE TRAVEL AGENCY IN THE PARK'])"
   ]
  },
  {
   "cell_type": "markdown",
   "metadata": {},
   "source": [
    "Clearly 'THE TRAVEL AGENCY IN THE PARK' is not a valid person and also all the values have 'NaN'. So this can be removed from out dataset. We also should remove any person who has all the values in the dataset as 'NaN'."
   ]
  },
  {
   "cell_type": "code",
   "execution_count": 14,
   "metadata": {},
   "outputs": [
    {
     "name": "stdout",
     "output_type": "stream",
     "text": [
      "What's the name of the outlier: ['CHAN RONNIE', 'POWERS WILLIAM', 'LOCKHART EUGENE E']\n"
     ]
    }
   ],
   "source": [
    "#Check for people whose total payments and total stock value is NULL\n",
    "outliers =[]\n",
    "for key in enron_data.keys():\n",
    "    if  (enron_data[key]['total_payments']=='NaN') & (enron_data[key]['total_stock_value']=='NaN') :\n",
    "        outliers.append(key)\n",
    "print (\"What's the name of the outlier:\",(outliers))\n",
    "\n",
    "#pprint.pprint( (enron_data['POWERS WILLIAM']))"
   ]
  },
  {
   "cell_type": "markdown",
   "metadata": {},
   "source": [
    "On further exploration we also found 'CHAN RONNIE', 'POWERS WILLIAM', 'LOCKHART EUGENE E' have toal payments and total stock value as NULL . They also do not have any messages to and from any POI. So I am planning to remove these from the dataset."
   ]
  },
  {
   "cell_type": "code",
   "execution_count": 15,
   "metadata": {},
   "outputs": [
    {
     "data": {
      "text/plain": [
       "{'bonus': 'NaN',\n",
       " 'deferral_payments': 'NaN',\n",
       " 'deferred_income': -98784,\n",
       " 'director_fees': 98784,\n",
       " 'email_address': 'NaN',\n",
       " 'exercised_stock_options': 'NaN',\n",
       " 'expenses': 'NaN',\n",
       " 'from_messages': 'NaN',\n",
       " 'from_poi_to_this_person': 'NaN',\n",
       " 'from_this_person_to_poi': 'NaN',\n",
       " 'loan_advances': 'NaN',\n",
       " 'long_term_incentive': 'NaN',\n",
       " 'other': 'NaN',\n",
       " 'poi': False,\n",
       " 'restricted_stock': 32460,\n",
       " 'restricted_stock_deferred': -32460,\n",
       " 'salary': 'NaN',\n",
       " 'shared_receipt_with_poi': 'NaN',\n",
       " 'to_messages': 'NaN',\n",
       " 'total_payments': 'NaN',\n",
       " 'total_stock_value': 'NaN'}"
      ]
     },
     "execution_count": 15,
     "metadata": {},
     "output_type": "execute_result"
    }
   ],
   "source": [
    "# Removing the outliers\n",
    "enron_data.pop('THE TRAVEL AGENCY IN THE PARK',0)\n",
    "enron_data.pop('POWERS WILLIAM',0)\n",
    "enron_data.pop('LOCKHART EUGENE E',0)\n",
    "enron_data.pop('CHAN RONNIE',0)"
   ]
  },
  {
   "cell_type": "markdown",
   "metadata": {},
   "source": [
    "\n",
    "Are there any other outliers in the data set? We can start by creating a scatter plot with the salary and bonus features."
   ]
  },
  {
   "cell_type": "code",
   "execution_count": 16,
   "metadata": {},
   "outputs": [
    {
     "data": {
      "image/png": "[encoded data removed]",
      "text/plain": [
       "<matplotlib.figure.Figure at 0x2562f9323c8>"
      ]
     },
     "metadata": {},
     "output_type": "display_data"
    }
   ],
   "source": [
    "features_list = [\"poi\",\"salary\", \"bonus\"]\n",
    "data = featureFormat(enron_data, features_list, sort_keys = True)\n",
    "poi=data[:,0]\n",
    "salary = data[:,1]\n",
    "bonus = data[:,2]\n",
    "\n",
    "plt.scatter(salary[poi==1],bonus[poi==1],c='red',s=50,label='poi')\n",
    "plt.scatter(salary[poi==0],bonus[poi==0],c='blue',s=50,label='not poi')\n",
    "\n",
    "plt.xlabel(\"Salary\")\n",
    "plt.ylabel(\"Bonus\")\n",
    "plt.legend(loc='lower right')\n",
    "plt.title(\"Bonus vs Salary\")\n",
    "plt.show()"
   ]
  },
  {
   "cell_type": "markdown",
   "metadata": {},
   "source": [
    "\n",
    "We can clearly see an outlier with a salary higher than 25,000,000 dollars and a bonus higher than 80,000,000 dollars but not a POI. But who is this outlier?"
   ]
  },
  {
   "cell_type": "code",
   "execution_count": 17,
   "metadata": {},
   "outputs": [
    {
     "name": "stdout",
     "output_type": "stream",
     "text": [
      "What's the name of the outlier: ['TOTAL']\n"
     ]
    }
   ],
   "source": [
    "outliers =[]\n",
    "for key in enron_data.keys():\n",
    "    if (enron_data[key]['bonus']!='NaN')& (enron_data[key]['salary']!='NaN'):\n",
    "        if (int(enron_data[key]['bonus'])>0.8*1e8) & (int(enron_data[key]['salary'])>2.5*1e7):\n",
    "            outliers.append(key)\n",
    "print (\"What's the name of the outlier:\",outliers)"
   ]
  },
  {
   "cell_type": "markdown",
   "metadata": {},
   "source": [
    "That solves the mystery. It appears that there is a bug in the data set. The outlier is in fact the total of each variable. Let's remove this outlier."
   ]
  },
  {
   "cell_type": "code",
   "execution_count": 18,
   "metadata": {},
   "outputs": [],
   "source": [
    "# We use the method pop to remove in the dictionary the item 'TOTAL.\n",
    "enron_data.pop('TOTAL',0)\n",
    "data = featureFormat(enron_data, features_list)"
   ]
  },
  {
   "cell_type": "markdown",
   "metadata": {},
   "source": [
    "LEts try to check for Outliers again after removing the total row from dataset"
   ]
  },
  {
   "cell_type": "code",
   "execution_count": 19,
   "metadata": {},
   "outputs": [
    {
     "data": {
      "image/png": "[encoded data removed]",
      "text/plain": [
       "<matplotlib.figure.Figure at 0x25631aa7978>"
      ]
     },
     "metadata": {},
     "output_type": "display_data"
    }
   ],
   "source": [
    "# Let's check for Outliers again\n",
    "poi=data[:,0]\n",
    "salary = data[:,1]\n",
    "bonus = data[:,2]\n",
    "\n",
    "plt.scatter(salary[poi==1],bonus[poi==1],c='red',s=50,label='poi')\n",
    "plt.scatter(salary[poi==0],bonus[poi==0],c='blue',s=50,label='not poi')\n",
    "\n",
    "plt.xlabel(\"Salary\")\n",
    "plt.ylabel(\"Bonus\")\n",
    "plt.legend(loc='lower right')\n",
    "plt.title(\"Bonus vs Salary\")\n",
    "plt.show()"
   ]
  },
  {
   "cell_type": "markdown",
   "metadata": {},
   "source": [
    "Now that we have cleaned up our dataset for Outliers and data elements which do not make sense  we can move to feature selection "
   ]
  },
  {
   "cell_type": "markdown",
   "metadata": {},
   "source": [
    "## 2.Feature Selection/Engineering\n",
    "\n",
    "### New Feature\n",
    "\n",
    "Persons of interest may have strong email connections. POIs might send emails to other POIs at a higher rate than the rest of the population. For this reason, let's create two new features: one that represents the fraction of emails that a person sent to POIs, and another feature that represents the fraction of emails that a person received from POIs."
   ]
  },
  {
   "cell_type": "code",
   "execution_count": 20,
   "metadata": {},
   "outputs": [],
   "source": [
    "# Functions to calculate the fraction of emails from /to a person and a POI\n",
    "def computeFraction(poi_messages, all_messages):\n",
    "    \"\"\" given a number messages to/from POI (numerator) \n",
    "        and number of all messages to/from a person (denominator),\n",
    "        return the fraction of messages to/from that person\n",
    "        that are from/to a POI\n",
    "   \"\"\"\n",
    "    fraction = 0.\n",
    "    \n",
    "    if poi_messages=='NaN' or all_messages=='NaN':\n",
    "        fraction = 0.\n",
    "    else:  \n",
    "        fraction=float(poi_messages)/float(all_messages)\n",
    "\n",
    "    return fraction\n",
    "\n",
    "\n",
    "for name in enron_data:\n",
    "\n",
    "    data_point = enron_data[name]\n",
    "\n",
    "    from_poi_to_this_person = data_point[\"from_poi_to_this_person\"]\n",
    "    to_messages = data_point[\"to_messages\"]\n",
    "    fraction_from_poi = computeFraction( from_poi_to_this_person, to_messages )\n",
    "    data_point[\"fraction_from_poi\"] = fraction_from_poi\n",
    "\n",
    "\n",
    "    from_this_person_to_poi = data_point[\"from_this_person_to_poi\"]\n",
    "    from_messages = data_point[\"from_messages\"]\n",
    "    fraction_to_poi = computeFraction( from_this_person_to_poi, from_messages )\n",
    "    data_point[\"fraction_to_poi\"] = fraction_to_poi\n",
    "features_list_n = total_features\n",
    "features_list_n.remove('email_address')\n",
    "features_list_n =  features_list_n + ['fraction_from_poi', 'fraction_to_poi']\n",
    "#pprint.pprint (features_list_n)"
   ]
  },
  {
   "cell_type": "code",
   "execution_count": 21,
   "metadata": {},
   "outputs": [],
   "source": [
    "fraction_to_poifraction =[enron_data[key][\"fraction_to_poi\"] for key in enron_data]\n",
    "fraction_from_poi=[enron_data[key][\"fraction_from_poi\"] for key in enron_data]\n",
    "poi=[enron_data[key][\"poi\"]==1 for key in enron_data]"
   ]
  },
  {
   "cell_type": "code",
   "execution_count": 22,
   "metadata": {},
   "outputs": [],
   "source": [
    "\n",
    "def takeSecond(elem):\n",
    "    \"\"\" take second element for sort\n",
    "    \"\"\"\n",
    "    return elem[1]"
   ]
  },
  {
   "cell_type": "code",
   "execution_count": 23,
   "metadata": {},
   "outputs": [
    {
     "data": {
      "image/png": "[encoded data removed]",
      "text/plain": [
       "<matplotlib.figure.Figure at 0x25631b60240>"
      ]
     },
     "metadata": {},
     "output_type": "display_data"
    }
   ],
   "source": [
    "### create new features\n",
    "### new features are: fraction_to_poi_email,fraction_from_poi_email\n",
    "\n",
    "def dict_to_list(key,normalizer):\n",
    "    new_list=[]\n",
    "\n",
    "    for i in enron_data:\n",
    "        if enron_data[i][key]==\"NaN\" or enron_data[i][normalizer]==\"NaN\":\n",
    "            new_list.append(0.)\n",
    "        elif enron_data[i][key]>=0:\n",
    "            new_list.append(float(enron_data[i][key])/float(enron_data[i][normalizer]))\n",
    "    return new_list\n",
    "\n",
    "### create two lists of new features\n",
    "fraction_from_poi=dict_to_list(\"from_poi_to_this_person\",\"to_messages\")\n",
    "fraction_to_poi=dict_to_list(\"from_this_person_to_poi\",\"from_messages\")\n",
    "\n",
    "### insert new features into data_dict\n",
    "count=0\n",
    "for i in enron_data:\n",
    "    enron_data[i][\"fraction_from_poi\"]=fraction_from_poi[count]\n",
    "    enron_data[i][\"fraction_to_poi\"]=fraction_to_poi[count]\n",
    "    count +=1\n",
    "\n",
    "    \n",
    "features_list = [\"poi\", \"fraction_from_poi\", \"fraction_to_poi\"]    \n",
    "    ### store to my_dataset for easy export below\n",
    "my_dataset = enron_data\n",
    "\n",
    "\n",
    "### these two lines extract the features specified in features_list\n",
    "### and extract them from data_dict, returning a numpy array\n",
    "data = featureFormat(my_dataset, features_list)\n",
    "\n",
    "### plot new features\n",
    "for point in data:\n",
    "    from_poi = point[1]\n",
    "    to_poi = point[2]\n",
    "    #plt.scatter( from_poi, to_poi )\n",
    "    if point[0] == 1:\n",
    "        plt.scatter(from_poi, to_poi, color=\"r\", marker=\"*\",label='poi')\n",
    "    else:\n",
    "        plt.scatter(from_poi, to_poi, color=\"b\", label='not poi')\n",
    "\n",
    "plt.xlabel('Fraction of emails the person received from a POI') \n",
    "plt.ylabel('Fraction of emails the person sent to a POI')  \n",
    "plt.show()"
   ]
  },
  {
   "cell_type": "markdown",
   "metadata": {},
   "source": [
    "We can observe that these two features have a discriminating power between POI and non POI. For example, we can observe that there are no POIs with fraction_to_poi<0.2."
   ]
  },
  {
   "cell_type": "markdown",
   "metadata": {},
   "source": [
    "\n",
    "\n",
    "To select the features we will use an automated feature selection function named SelectKBest from the sklearn library. We will tune the parameter K (number of features) at the same time we tune the parameters of the machine learning algorithm during the implementation of cross-validation. If we select the number of features on the entire data set and then we tune the parameters of the machine learning algorithm there is a risk of overfitting."
   ]
  },
  {
   "cell_type": "code",
   "execution_count": 24,
   "metadata": {},
   "outputs": [],
   "source": [
    "### Extract features and labels from dataset for local testing\n",
    "data = featureFormat(my_dataset, features_list_n, sort_keys = True)\n",
    "labels, features = targetFeatureSplit(data)"
   ]
  },
  {
   "cell_type": "code",
   "execution_count": 25,
   "metadata": {},
   "outputs": [
    {
     "name": "stdout",
     "output_type": "stream",
     "text": [
      "[('exercised_stock_options', 24.25047235452619),\n",
      " ('total_stock_value', 23.613740454440887),\n",
      " ('bonus', 20.25718499812395),\n",
      " ('salary', 17.71787357924329),\n",
      " ('fraction_to_poi', 15.946248696687636),\n",
      " ('deferred_income', 11.222175285805182),\n",
      " ('long_term_incentive', 9.62221216430468),\n",
      " ('restricted_stock', 8.947938884292649),\n",
      " ('total_payments', 8.570823078730976),\n",
      " ('shared_receipt_with_poi', 8.277457991443601),\n",
      " ('loan_advances', 7.066710861319749),\n",
      " ('expenses', 5.815328001904854),\n",
      " ('from_poi_to_this_person', 5.041257378669385),\n",
      " ('other', 4.070343006434408),\n",
      " ('fraction_from_poi', 2.963990314926164),\n",
      " ('from_this_person_to_poi', 2.295183195738003),\n",
      " ('director_fees', 1.9332910310121643),\n",
      " ('to_messages', 1.5634425546665922),\n",
      " ('deferral_payments', 0.24033464535223048),\n",
      " ('from_messages', 0.18071817710224855),\n",
      " ('restricted_stock_deferred', 0.06696644496108223)]\n",
      "['poi',\n",
      " 'exercised_stock_options',\n",
      " 'total_stock_value',\n",
      " 'bonus',\n",
      " 'salary',\n",
      " 'fraction_to_poi',\n",
      " 'deferred_income',\n",
      " 'long_term_incentive',\n",
      " 'restricted_stock',\n",
      " 'total_payments',\n",
      " 'shared_receipt_with_poi']\n"
     ]
    }
   ],
   "source": [
    "# intelligently select features (univariate feature selection)\n",
    "import pprint\n",
    "from sklearn.feature_selection import SelectKBest, f_classif\n",
    "selector = SelectKBest(f_classif, k = 10)\n",
    "selector.fit(features, labels)\n",
    "scores = zip(features_list_n[1:], selector.scores_)\n",
    "sorted_scores = sorted(scores, key = takeSecond, reverse = True)\n",
    "#pprint.pprint('SelectKBest scores: ')\n",
    "pprint.pprint( sorted_scores)\n",
    "all_features =  POI_label + [(i[0]) for i in sorted_scores[0:20]]\n",
    "#pprint.pprint( all_features)\n",
    "kBest_features = POI_label + [(i[0]) for i in sorted_scores[0:10]]\n",
    "#pprint.pprint( 'KBest')\n",
    "pprint.pprint( kBest_features)\n",
    "\n",
    "#print(my_dataset)\n",
    "for emp in enron_data:\n",
    "    for f in enron_data[emp]:\n",
    "        if enron_data[emp][f] == 'NaN':\n",
    "            # fill NaN values\n",
    "            enron_data[emp][f] = 0\n",
    "\n",
    "my_dataset = enron_data"
   ]
  },
  {
   "cell_type": "markdown",
   "metadata": {},
   "source": [
    "#### Exploring the Precision and Accuracy with and without the new features\n",
    "\n",
    "__Feature Scalling__\n",
    "\n",
    "\n",
    "Since my selected features had different units and some of the features had very big values, I needed to transform them. I used MinMaxScaler from sklearn to scale all my selected features to a given range (between 0 and 1).\n"
   ]
  },
  {
   "cell_type": "code",
   "execution_count": 26,
   "metadata": {},
   "outputs": [],
   "source": [
    "\n",
    "\n",
    "# dataset without new features\n",
    "from sklearn import preprocessing\n",
    "data = featureFormat(my_dataset, kBest_features, sort_keys = True)\n",
    "labels, features = targetFeatureSplit(data)\n",
    "scaler = preprocessing.MinMaxScaler()\n",
    "features = scaler.fit_transform(features)\n",
    "\n",
    "# dataset with new features\n",
    "kBest_new_features = kBest_features + ['fraction_from_poi', 'fraction_to_poi']\n",
    "data = featureFormat(my_dataset, kBest_new_features, sort_keys = True)\n",
    "new_labels, new_features = targetFeatureSplit(data)\n",
    "new_features = scaler.fit_transform(new_features)"
   ]
  },
  {
   "cell_type": "markdown",
   "metadata": {},
   "source": [
    "Let's check our 2 datasets with and without the new features will the 5 algorithms and see which provides a better accuracy and precission."
   ]
  },
  {
   "cell_type": "code",
   "execution_count": 27,
   "metadata": {},
   "outputs": [],
   "source": [
    "from sklearn.cross_validation import train_test_split\n",
    "from sklearn.metrics import accuracy_score, precision_score, recall_score\n",
    "\n",
    "def tune_params(grid_search, features, labels, params, iters = 80):\n",
    "    \"\"\" given a grid_search and parameters list (if exist) for a specific model,\n",
    "    along with features and labels list,\n",
    "    it tunes the algorithm using grid search and prints out the average evaluation metrics\n",
    "    results (accuracy, percision, recall) after performing the tuning for iter times,\n",
    "    and the best hyperparameters for the model\n",
    "    \"\"\"\n",
    "    acc = []\n",
    "    pre = []\n",
    "    recall = []\n",
    "    \n",
    "    for i in range(iters):\n",
    "        features_train, features_test, labels_train, labels_test = \\\n",
    "        train_test_split(features, labels, test_size = 0.3, random_state = i)\n",
    "        grid_search.fit(features_train, labels_train)\n",
    "        predicts = grid_search.predict(features_test)\n",
    "\n",
    "        acc = acc + [accuracy_score(labels_test, predicts)] \n",
    "        pre = pre + [precision_score(labels_test, predicts)]\n",
    "        recall = recall + [recall_score(labels_test, predicts)]\n",
    "    print (\"accuracy: {}\".format(np.mean(acc)))\n",
    "    print (\"precision: {}\".format(np.mean(pre)))\n",
    "    print (\"recall: {}\".format(np.mean(recall)))\n",
    "\n",
    "    best_params = grid_search.best_estimator_.get_params()\n",
    "    for param_name in params.keys():\n",
    "        print(\"%s = %r, \" % (param_name, best_params[param_name]))"
   ]
  },
  {
   "cell_type": "markdown",
   "metadata": {},
   "source": [
    "#### 1. Naive Bayes"
   ]
  },
  {
   "cell_type": "code",
   "execution_count": 28,
   "metadata": {},
   "outputs": [
    {
     "name": "stdout",
     "output_type": "stream",
     "text": [
      "Naive Bayes model evaluation\n",
      "accuracy: 0.8470930232558139\n",
      "precision: 0.3991815476190476\n",
      "recall: 0.33036706349206346\n",
      "Naive Bayes model evaluation with new features\n",
      "accuracy: 0.8325581395348836\n",
      "precision: 0.35005005411255413\n",
      "recall: 0.31953373015873016\n"
     ]
    }
   ],
   "source": [
    "from sklearn.model_selection import GridSearchCV\n",
    "\n",
    "# 1. Naive Bayes\n",
    "from sklearn.naive_bayes import GaussianNB\n",
    "nb_clf = GaussianNB()\n",
    "nb_param = {}\n",
    "nb_grid_search = GridSearchCV(estimator = nb_clf, param_grid = nb_param)\n",
    "print(\"Naive Bayes model evaluation\")\n",
    "tune_params(nb_grid_search, features, labels, nb_param)\n",
    "print(\"Naive Bayes model evaluation with new features\")\n",
    "tune_params(nb_grid_search, new_features, new_labels, nb_param)"
   ]
  },
  {
   "cell_type": "markdown",
   "metadata": {},
   "source": [
    "#### 2. Support Vector Machines"
   ]
  },
  {
   "cell_type": "code",
   "execution_count": 29,
   "metadata": {},
   "outputs": [
    {
     "name": "stdout",
     "output_type": "stream",
     "text": [
      "SVM model evaluation\n",
      "accuracy: 0.8645348837209301\n",
      "precision: 0.15124999999999997\n",
      "recall: 0.06362103174603176\n",
      "kernel = 'sigmoid', \n",
      "gamma = 1, \n",
      "C = 100, \n",
      "SVM model evaluation with New Features\n",
      "accuracy: 0.8630813953488371\n",
      "precision: 0.13458333333333333\n",
      "recall: 0.06457837301587302\n",
      "kernel = 'linear', \n",
      "gamma = 1, \n",
      "C = 10, \n"
     ]
    }
   ],
   "source": [
    "# 2. Support Vector Machines\n",
    "from sklearn import svm\n",
    "svm_clf = svm.SVC()\n",
    "svm_param = {'kernel':('linear', 'rbf', 'sigmoid'),\n",
    "'gamma': [1, 0.1, 0.01, 0.001, 0.0001],\n",
    "'C': [0.1, 1, 10, 100, 1000]}\n",
    "svm_grid_search = GridSearchCV(estimator = svm_clf, param_grid = svm_param)\n",
    "\n",
    "print(\"SVM model evaluation\")\n",
    "tune_params(svm_grid_search, features, labels, svm_param)\n",
    "print(\"SVM model evaluation with New Features\")\n",
    "tune_params(svm_grid_search, new_features, new_labels, svm_param)"
   ]
  },
  {
   "cell_type": "markdown",
   "metadata": {},
   "source": [
    "#### 3. Decision Tree"
   ]
  },
  {
   "cell_type": "code",
   "execution_count": 30,
   "metadata": {},
   "outputs": [
    {
     "name": "stdout",
     "output_type": "stream",
     "text": [
      "Decision Tree model evaluation\n",
      "accuracy: 0.824127906976744\n",
      "precision: 0.3235957792207792\n",
      "recall: 0.3026984126984127\n",
      "criterion = 'gini', \n",
      "splitter = 'best', \n",
      "Decision Tree model evaluation with New Features\n",
      "accuracy: 0.8203488372093022\n",
      "precision: 0.31769823926073926\n",
      "recall: 0.3378571428571428\n",
      "criterion = 'entropy', \n",
      "splitter = 'best', \n"
     ]
    }
   ],
   "source": [
    "# 3. Decision Tree\n",
    "from sklearn import tree\n",
    "dt_clf = tree.DecisionTreeClassifier()\n",
    "dt_param = {'criterion':('gini', 'entropy'),\n",
    "'splitter':('best','random')}\n",
    "dt_grid_search = GridSearchCV(estimator = dt_clf, param_grid = dt_param)\n",
    "\n",
    "print(\"Decision Tree model evaluation\")\n",
    "tune_params(dt_grid_search, features, labels, dt_param)\n",
    "print(\"Decision Tree model evaluation with New Features\")\n",
    "tune_params(dt_grid_search, new_features, new_labels, dt_param)"
   ]
  },
  {
   "cell_type": "markdown",
   "metadata": {},
   "source": [
    "#### 4. Random Forest"
   ]
  },
  {
   "cell_type": "code",
   "execution_count": 31,
   "metadata": {},
   "outputs": [
    {
     "name": "stdout",
     "output_type": "stream",
     "text": [
      "Random Forest model evaluation\n",
      "accuracy: 0.8656976744186047\n",
      "precision: 0.3817857142857143\n",
      "recall: 0.13986111111111113\n",
      "Random Forest model evaluation with New Features\n",
      "accuracy: 0.8651162790697674\n",
      "precision: 0.3506845238095238\n",
      "recall: 0.15501488095238095\n"
     ]
    }
   ],
   "source": [
    "# 4. Random Forest\n",
    "from sklearn.ensemble import RandomForestClassifier\n",
    "rf_clf = RandomForestClassifier(n_estimators=10)\n",
    "rf_param = {}\n",
    "rf_grid_search = GridSearchCV(estimator = rf_clf, param_grid = rf_param)\n",
    "\n",
    "print(\"Random Forest model evaluation\")\n",
    "tune_params(rf_grid_search, features, labels, rf_param)\n",
    "print(\"Random Forest model evaluation with New Features\")\n",
    "tune_params(rf_grid_search, new_features, new_labels, rf_param)"
   ]
  },
  {
   "cell_type": "markdown",
   "metadata": {},
   "source": [
    "#### 5. Logistic Regression"
   ]
  },
  {
   "cell_type": "code",
   "execution_count": 32,
   "metadata": {},
   "outputs": [
    {
     "name": "stdout",
     "output_type": "stream",
     "text": [
      "Logistic Regression model evaluation\n",
      "accuracy: 0.8723837209302324\n",
      "precision: 0.0\n",
      "recall: 0.0\n",
      "tol = 1, \n",
      "C = 0.1, \n",
      "Logistic Regression model evaluation with new features\n",
      "accuracy: 0.8723837209302324\n",
      "precision: 0.0\n",
      "recall: 0.0\n",
      "tol = 1, \n",
      "C = 0.1, \n"
     ]
    }
   ],
   "source": [
    "# 5. Logistic Regression\n",
    "from sklearn.linear_model import LogisticRegression\n",
    "lr_clf = LogisticRegression()\n",
    "lr_param = {'tol': [1, 0.1, 0.01, 0.001, 0.0001],\n",
    "'C': [0.1, 0.01, 0.001, 0.0001]}\n",
    "lr_grid_search = GridSearchCV(estimator = lr_clf, param_grid = lr_param)\n",
    "\n",
    "print(\"Logistic Regression model evaluation\")\n",
    "tune_params(lr_grid_search, features, labels, lr_param)\n",
    "print(\"Logistic Regression model evaluation with new features\")\n",
    "tune_params(lr_grid_search, new_features, new_labels, lr_param)"
   ]
  },
  {
   "cell_type": "markdown",
   "metadata": {},
   "source": [
    "Let us pick the dataset without new features as these did not improve the precission and recall in any of the five models we have explored ."
   ]
  },
  {
   "cell_type": "code",
   "execution_count": 33,
   "metadata": {},
   "outputs": [],
   "source": [
    "\n",
    "\n",
    "# dataset without new features\n",
    "from sklearn import preprocessing\n",
    "data = featureFormat(my_dataset, all_features, sort_keys = True)\n",
    "labels1, features1 = targetFeatureSplit(data)\n",
    "scaler = preprocessing.MinMaxScaler()\n",
    "features1 = scaler.fit_transform(features1)\n",
    "\n"
   ]
  },
  {
   "cell_type": "code",
   "execution_count": 34,
   "metadata": {},
   "outputs": [],
   "source": [
    "from sklearn.feature_selection import SelectKBest, f_classif\n",
    "def feature_selection(nb_features,features, labels):\n",
    "    selector = SelectKBest(f_classif, k=nb_features)\n",
    "    selector.fit(features, labels)\n",
    "    return selector"
   ]
  },
  {
   "cell_type": "markdown",
   "metadata": {},
   "source": [
    "## 3. Validation strategy and evluation metrics\n",
    " Implementation of cross-validation\n",
    "To tune the machine learning algorithm we will use the cross-validation method. It's a great method to maximize the accuracy of the metrics we will chose to assess the performance of the algorithm. This method will also correctly tune the algorithm parameters to find the right trade-off between bias and variance in order to make sure that our algorithm is able to generalize (not overfitting).\n",
    "\n",
    "Usually we use K-cross-validation that consists of spliting the data into K chunks and performs K fits, where each chunk gets a turn as the validation set. Here, we will use a different cross-validation method, named StratifiedShuffleSplit, because of the small size of the data set and the unbalanced labels. This cross-validation object is a merge of StratifiedKFold and ShuffleSplit, which returns stratified randomized folds. The folds are made by preserving the percentage of samples for each class."
   ]
  },
  {
   "cell_type": "code",
   "execution_count": 35,
   "metadata": {},
   "outputs": [],
   "source": [
    "from sklearn.cross_validation import StratifiedShuffleSplit\n",
    "from sklearn.feature_selection import SelectKBest, f_classif\n",
    "\n",
    "def test_classifier(clf, labels, features,nb_features, folds = 1000):\n",
    "    cv = StratifiedShuffleSplit(labels, folds, random_state = 42)\n",
    "    true_negatives = 0\n",
    "    false_negatives = 0\n",
    "    true_positives = 0\n",
    "    false_positives = 0\n",
    "    precision=0\n",
    "    recall=0\n",
    "    f1=0\n",
    "    f2=0\n",
    "    for train_idx, test_idx in cv: \n",
    "        features_train = []\n",
    "        features_test  = []\n",
    "        labels_train   = []\n",
    "        labels_test    = []\n",
    "        for ii in train_idx:\n",
    "            features_train.append( features[ii] )\n",
    "            labels_train.append( labels[ii] )\n",
    "        for jj in test_idx:\n",
    "            features_test.append( features[jj] )\n",
    "            labels_test.append( labels[jj] )\n",
    "            \n",
    "        #Selection of the best K features   \n",
    "       # selector=feature_selection(nb_features,features_train, labels_train)\n",
    "        selector=feature_selection(nb_features,features_train, labels_train)\n",
    "        features_train_transformed = selector.transform(features_train)\n",
    "        features_test_transformed  = selector.transform(features_test)   \n",
    "            \n",
    "        ### fit the classifier using training set, and test on test set\n",
    "        clf.fit(features_train_transformed, labels_train)\n",
    "        predictions = clf.predict(features_test_transformed)\n",
    "        for prediction, truth in zip(predictions, labels_test):\n",
    "            if prediction == 0 and truth == 0:\n",
    "                true_negatives += 1\n",
    "            elif prediction == 0 and truth == 1:\n",
    "                false_negatives += 1\n",
    "            elif prediction == 1 and truth == 0:\n",
    "                false_positives += 1\n",
    "            elif prediction == 1 and truth == 1:\n",
    "                true_positives += 1\n",
    "            else:\n",
    "                break\n",
    "   \n",
    "    try:\n",
    "        total_predictions = true_negatives + false_negatives + false_positives + true_positives\n",
    "        accuracy = 1.0*(true_positives + true_negatives)/total_predictions\n",
    "        precision = 1.0*true_positives/(true_positives+false_positives)\n",
    "        recall = 1.0*true_positives/(true_positives+false_negatives)\n",
    "        f1 = 2.0 * true_positives/(2*true_positives + false_positives+false_negatives)\n",
    "        f2 = (1+2.0*2.0) * precision*recall/(4*precision + recall)\n",
    "    except:\n",
    "        #print \"Got a divide by zero when trying out:\", clf\n",
    "        None\n",
    "    return precision,recall,f1,f2"
   ]
  },
  {
   "cell_type": "markdown",
   "metadata": {},
   "source": [
    "### Evaluation metrics\n",
    "To assess the performance of our algorithm we will look at two evaluation metrics:\n",
    "\n",
    "Precision = true positives/(true positives + false positives)\n",
    "Recall = true positives/(true positives + false negatives)\n",
    "There’s usually a tradeoff between precision and recall. Sometimes the identifier doesn't have great precision, but it does have good recall. That means that, nearly every time a POI shows up in the test set, we are able to identify him or her. The cost of this is that we sometimes get some false positives, where non-POI get flagged.\n",
    "\n",
    "Sometimes, instead, the identifier doesn't have a great recall, but it does have good precision. That means that whenever a POI gets flagged in the test set, we know with a lot of confidence that it's very likely to be a real POI and not a false alarm. On the other hand, the price we pay for this is that we sometimes miss real POIs, since we are reclucant to pull the trigger on edge cases.\n",
    "\n",
    "For this project we want that precision and recall are both at least 0.3.\n",
    "\n",
    "We will also compute the F-score that combines precision and recall. There are two versions of the F-score. The F1 score put the same weight on precision and recall, however F2 score put more wights on recall."
   ]
  },
  {
   "cell_type": "markdown",
   "metadata": {},
   "source": [
    "## 4, Choosing and tuning the algorithm\n",
    "\n",
    "#### Gaussian Naive Bayes (GaussianNB)\n",
    "For the Gaussian Naive Bayes algorithm there are no specific parameters to tune, however we need to select the number of features."
   ]
  },
  {
   "cell_type": "code",
   "execution_count": 36,
   "metadata": {},
   "outputs": [],
   "source": [
    "from sklearn.naive_bayes import GaussianNB\n",
    "from sklearn.cross_validation import StratifiedShuffleSplit\n",
    "from sklearn.feature_selection import SelectKBest, f_classif\n",
    "nb_features_orig=len(features1[1])\n",
    "#print(nb_features_orig)\n",
    "#For each case, we want to record the different metrics.\n",
    "precision_result=[]\n",
    "recall_result=[]\n",
    "f1_result=[]\n",
    "f2_result=[]\n",
    "nb_feature_store=[]\n",
    "\n",
    "#Classifier\n",
    "clf=GaussianNB()\n",
    "\n",
    "#We calculate the evaluation metrics for k best number of features selected in the model.\n",
    "for nb_features in range(1,20):\n",
    "    \n",
    "    #We use cross-validation and we calculate precision and recall metrics\n",
    "    precision,recall,f1,f2=test_classifier(clf, labels1, features1,nb_features, folds = 1000)\n",
    "    #We record the evaluation metrics for each case               \n",
    "    precision_result.append(precision)\n",
    "    recall_result.append(recall)     \n",
    "    f1_result.append(f1)\n",
    "    f2_result.append(f2)\n",
    "    nb_feature_store.append(nb_features)\n",
    "    #feature_name.append(features1)"
   ]
  },
  {
   "cell_type": "markdown",
   "metadata": {},
   "source": [
    "Let's plot the precision and recall by number of features selected in the model."
   ]
  },
  {
   "cell_type": "code",
   "execution_count": 37,
   "metadata": {},
   "outputs": [
    {
     "data": {
      "image/png": "[encoded data removed]",
      "text/plain": [
       "<matplotlib.figure.Figure at 0x25631f2ce80>"
      ]
     },
     "metadata": {},
     "output_type": "display_data"
    }
   ],
   "source": [
    "plt.plot(range(1,nb_features_orig),precision_result,c='red',label='precision')\n",
    "plt.plot(range(1,nb_features_orig),recall_result,c='blue',label='recall')\n",
    "plt.xlabel(\"Number of features used in the model\")\n",
    "plt.title(\"Precision and recall by number of features included in the model\")\n",
    "plt.legend()\n",
    "plt.show()"
   ]
  },
  {
   "cell_type": "markdown",
   "metadata": {},
   "source": [
    "We observe that if we select 5 best features we have the best performance with a precision and recall higher than 0.3. \n",
    "What are the exact precision and recall when we select the 5 best features?"
   ]
  },
  {
   "cell_type": "code",
   "execution_count": 38,
   "metadata": {},
   "outputs": [
    {
     "name": "stdout",
     "output_type": "stream",
     "text": [
      "Precsion when the 5 best features are selected: 0.40443896424167697\n",
      "Recall when the 5 best features are selected 0.328\n"
     ]
    }
   ],
   "source": [
    "print (\"Precsion when the 5 best features are selected:\",precision_result[4])\n",
    "print (\"Recall when the 5 best features are selected\",recall_result[4])"
   ]
  },
  {
   "cell_type": "code",
   "execution_count": 39,
   "metadata": {},
   "outputs": [
    {
     "data": {
      "text/html": [
       "<div>\n",
       "<style scoped>\n",
       "    .dataframe tbody tr th:only-of-type {\n",
       "        vertical-align: middle;\n",
       "    }\n",
       "\n",
       "    .dataframe tbody tr th {\n",
       "        vertical-align: top;\n",
       "    }\n",
       "\n",
       "    .dataframe thead th {\n",
       "        text-align: right;\n",
       "    }\n",
       "</style>\n",
       "<table border=\"1\" class=\"dataframe\">\n",
       "  <thead>\n",
       "    <tr style=\"text-align: right;\">\n",
       "      <th></th>\n",
       "      <th>nb_feature</th>\n",
       "      <th>precision</th>\n",
       "      <th>recall</th>\n",
       "      <th>f1</th>\n",
       "      <th>f2</th>\n",
       "    </tr>\n",
       "  </thead>\n",
       "  <tbody>\n",
       "    <tr>\n",
       "      <th>0</th>\n",
       "      <td>1.0</td>\n",
       "      <td>0.269231</td>\n",
       "      <td>0.1400</td>\n",
       "      <td>0.184211</td>\n",
       "      <td>0.154867</td>\n",
       "    </tr>\n",
       "    <tr>\n",
       "      <th>1</th>\n",
       "      <td>2.0</td>\n",
       "      <td>0.292969</td>\n",
       "      <td>0.1875</td>\n",
       "      <td>0.228659</td>\n",
       "      <td>0.202047</td>\n",
       "    </tr>\n",
       "    <tr>\n",
       "      <th>2</th>\n",
       "      <td>3.0</td>\n",
       "      <td>0.324343</td>\n",
       "      <td>0.2405</td>\n",
       "      <td>0.276199</td>\n",
       "      <td>0.253612</td>\n",
       "    </tr>\n",
       "    <tr>\n",
       "      <th>3</th>\n",
       "      <td>4.0</td>\n",
       "      <td>0.374517</td>\n",
       "      <td>0.2910</td>\n",
       "      <td>0.327518</td>\n",
       "      <td>0.304584</td>\n",
       "    </tr>\n",
       "    <tr>\n",
       "      <th>4</th>\n",
       "      <td>5.0</td>\n",
       "      <td>0.404439</td>\n",
       "      <td>0.3280</td>\n",
       "      <td>0.362231</td>\n",
       "      <td>0.340885</td>\n",
       "    </tr>\n",
       "  </tbody>\n",
       "</table>\n",
       "</div>"
      ],
      "text/plain": [
       "   nb_feature  precision  recall        f1        f2\n",
       "0         1.0   0.269231  0.1400  0.184211  0.154867\n",
       "1         2.0   0.292969  0.1875  0.228659  0.202047\n",
       "2         3.0   0.324343  0.2405  0.276199  0.253612\n",
       "3         4.0   0.374517  0.2910  0.327518  0.304584\n",
       "4         5.0   0.404439  0.3280  0.362231  0.340885"
      ]
     },
     "execution_count": 39,
     "metadata": {},
     "output_type": "execute_result"
    }
   ],
   "source": [
    "import pandas as pd\n",
    "result=pd.DataFrame([nb_feature_store,precision_result,recall_result,f1_result,f2_result]).T\n",
    "result.columns=['nb_feature','precision','recall','f1','f2']\n",
    "result.head()"
   ]
  },
  {
   "cell_type": "code",
   "execution_count": 40,
   "metadata": {},
   "outputs": [
    {
     "data": {
      "text/html": [
       "<div>\n",
       "<style scoped>\n",
       "    .dataframe tbody tr th:only-of-type {\n",
       "        vertical-align: middle;\n",
       "    }\n",
       "\n",
       "    .dataframe tbody tr th {\n",
       "        vertical-align: top;\n",
       "    }\n",
       "\n",
       "    .dataframe thead th {\n",
       "        text-align: right;\n",
       "    }\n",
       "</style>\n",
       "<table border=\"1\" class=\"dataframe\">\n",
       "  <thead>\n",
       "    <tr style=\"text-align: right;\">\n",
       "      <th></th>\n",
       "      <th>feature_name</th>\n",
       "      <th>score</th>\n",
       "    </tr>\n",
       "  </thead>\n",
       "  <tbody>\n",
       "    <tr>\n",
       "      <th>0</th>\n",
       "      <td>salary</td>\n",
       "      <td>17.7179</td>\n",
       "    </tr>\n",
       "    <tr>\n",
       "      <th>1</th>\n",
       "      <td>deferral_payments</td>\n",
       "      <td>0.240335</td>\n",
       "    </tr>\n",
       "    <tr>\n",
       "      <th>2</th>\n",
       "      <td>total_payments</td>\n",
       "      <td>8.57082</td>\n",
       "    </tr>\n",
       "    <tr>\n",
       "      <th>3</th>\n",
       "      <td>loan_advances</td>\n",
       "      <td>7.06671</td>\n",
       "    </tr>\n",
       "    <tr>\n",
       "      <th>4</th>\n",
       "      <td>bonus</td>\n",
       "      <td>20.2572</td>\n",
       "    </tr>\n",
       "  </tbody>\n",
       "</table>\n",
       "</div>"
      ],
      "text/plain": [
       "        feature_name     score\n",
       "0             salary   17.7179\n",
       "1  deferral_payments  0.240335\n",
       "2     total_payments   8.57082\n",
       "3      loan_advances   7.06671\n",
       "4              bonus   20.2572"
      ]
     },
     "execution_count": 40,
     "metadata": {},
     "output_type": "execute_result"
    }
   ],
   "source": [
    "#selector=feature_selection(6,features, labels)\n",
    "import pandas as pd\n",
    "feature_importance=pd.DataFrame([features_list_n[1:],list(selector.scores_)]).T\n",
    "feature_importance.columns=['feature_name','score']\n",
    "feature_importance.head()\n",
    "#feature_importance.sort_values('score',ascending=False)\n"
   ]
  },
  {
   "cell_type": "markdown",
   "metadata": {},
   "source": [
    "The 5 best features are:\n",
    "\n",
    "salary <br />\n",
    "deferral_payments <br />\n",
    "total_payments <br />\n",
    "loan_advances <br />\n",
    "bonus \n"
   ]
  },
  {
   "cell_type": "markdown",
   "metadata": {},
   "source": [
    "### b. K-Nearest Neighbors\n",
    "Let's try the K-Nearest Neighbors algorithm. Before training this algorithm, it's important to rescale the features because the algorithm compute the euclidian distance and it will be more affected my large features."
   ]
  },
  {
   "cell_type": "code",
   "execution_count": 41,
   "metadata": {},
   "outputs": [],
   "source": [
    "\n",
    "from sklearn.preprocessing import MinMaxScaler\n",
    "min_max_scaler=MinMaxScaler()\n",
    "features=min_max_scaler.fit_transform(features1)"
   ]
  },
  {
   "cell_type": "markdown",
   "metadata": {},
   "source": [
    "One parameter which is important to tune for the k-Nearest-neighbors is the number of neighbors. If we set n_neighbors=1, the person is going to be labeled based on the closest neighbor. If we set n_neighbors=10, the person is going to labeled based on the 10 nearest neighbors. When the number of neighbors is small, the bias is low, however the variance is high. That's why it's important to find the right trade-off by using a cross-validation method to tune the parameter."
   ]
  },
  {
   "cell_type": "code",
   "execution_count": 42,
   "metadata": {},
   "outputs": [],
   "source": [
    "from sklearn.neighbors import KNeighborsClassifier\n",
    "\n",
    "nb_features_orig=len(features1[1])\n",
    "\n",
    "#For each case, we want to record the different metrics.\n",
    "precision_result=[]\n",
    "recall_result=[]\n",
    "f1_result=[]\n",
    "f2_result=[]\n",
    "\n",
    "nb_neighbors_store=[]\n",
    "nb_feature_store=[]\n",
    "\n",
    "#Number of neighbours tested\n",
    "nb_neighbors=[1,2,3,5,10,20,30]\n",
    "\n",
    "#We calculate the evaluation metrics for k best number of features selected in the model.\n",
    "for nb_features in range(1,nb_features_orig+1):\n",
    "    #Number of neighbours\n",
    "    for k in range(len(nb_neighbors)):\n",
    "        \n",
    "        #classifier\n",
    "        clf =KNeighborsClassifier(n_neighbors=nb_neighbors[k])\n",
    "        #We use cross-validation and we calculate precision and recall metrics\n",
    "        precision,recall,f1,f2=test_classifier(clf, labels1, features1,nb_features, folds = 1000)\n",
    "        \n",
    "        #We record the evaluation metrics for each case\n",
    "        precision_result.append(precision)\n",
    "        recall_result.append(recall)     \n",
    "        f1_result.append(f1)\n",
    "        f2_result.append(f2)\n",
    "        nb_feature_store.append(nb_features)\n",
    "        nb_neighbors_store.append(nb_neighbors[k])"
   ]
  },
  {
   "cell_type": "markdown",
   "metadata": {},
   "source": [
    "\n",
    "Let's create a pandas DataFrame with the avaluation metrics (precision, recall, f1,f2) for each case simulated."
   ]
  },
  {
   "cell_type": "code",
   "execution_count": 43,
   "metadata": {},
   "outputs": [
    {
     "data": {
      "text/html": [
       "<div>\n",
       "<style scoped>\n",
       "    .dataframe tbody tr th:only-of-type {\n",
       "        vertical-align: middle;\n",
       "    }\n",
       "\n",
       "    .dataframe tbody tr th {\n",
       "        vertical-align: top;\n",
       "    }\n",
       "\n",
       "    .dataframe thead th {\n",
       "        text-align: right;\n",
       "    }\n",
       "</style>\n",
       "<table border=\"1\" class=\"dataframe\">\n",
       "  <thead>\n",
       "    <tr style=\"text-align: right;\">\n",
       "      <th></th>\n",
       "      <th>nb_feature</th>\n",
       "      <th>nb_neighbors</th>\n",
       "      <th>precision</th>\n",
       "      <th>recall</th>\n",
       "      <th>f1</th>\n",
       "      <th>f2</th>\n",
       "    </tr>\n",
       "  </thead>\n",
       "  <tbody>\n",
       "    <tr>\n",
       "      <th>0</th>\n",
       "      <td>1.0</td>\n",
       "      <td>1.0</td>\n",
       "      <td>0.188815</td>\n",
       "      <td>0.1840</td>\n",
       "      <td>0.186376</td>\n",
       "      <td>0.184943</td>\n",
       "    </tr>\n",
       "    <tr>\n",
       "      <th>1</th>\n",
       "      <td>1.0</td>\n",
       "      <td>2.0</td>\n",
       "      <td>0.267631</td>\n",
       "      <td>0.0740</td>\n",
       "      <td>0.115942</td>\n",
       "      <td>0.086519</td>\n",
       "    </tr>\n",
       "    <tr>\n",
       "      <th>2</th>\n",
       "      <td>1.0</td>\n",
       "      <td>3.0</td>\n",
       "      <td>0.212963</td>\n",
       "      <td>0.1035</td>\n",
       "      <td>0.139300</td>\n",
       "      <td>0.115359</td>\n",
       "    </tr>\n",
       "    <tr>\n",
       "      <th>3</th>\n",
       "      <td>1.0</td>\n",
       "      <td>5.0</td>\n",
       "      <td>0.364769</td>\n",
       "      <td>0.1025</td>\n",
       "      <td>0.160031</td>\n",
       "      <td>0.119715</td>\n",
       "    </tr>\n",
       "    <tr>\n",
       "      <th>4</th>\n",
       "      <td>1.0</td>\n",
       "      <td>10.0</td>\n",
       "      <td>0.000000</td>\n",
       "      <td>0.0000</td>\n",
       "      <td>0.000000</td>\n",
       "      <td>0.000000</td>\n",
       "    </tr>\n",
       "  </tbody>\n",
       "</table>\n",
       "</div>"
      ],
      "text/plain": [
       "   nb_feature  nb_neighbors  precision  recall        f1        f2\n",
       "0         1.0           1.0   0.188815  0.1840  0.186376  0.184943\n",
       "1         1.0           2.0   0.267631  0.0740  0.115942  0.086519\n",
       "2         1.0           3.0   0.212963  0.1035  0.139300  0.115359\n",
       "3         1.0           5.0   0.364769  0.1025  0.160031  0.119715\n",
       "4         1.0          10.0   0.000000  0.0000  0.000000  0.000000"
      ]
     },
     "execution_count": 43,
     "metadata": {},
     "output_type": "execute_result"
    }
   ],
   "source": [
    "import pandas as pd\n",
    "result=pd.DataFrame([nb_feature_store,nb_neighbors_store,precision_result,recall_result,f1_result,f2_result]).T\n",
    "result.columns=['nb_feature','nb_neighbors','precision','recall','f1','f2']\n",
    "result.head()"
   ]
  },
  {
   "cell_type": "code",
   "execution_count": null,
   "metadata": {},
   "outputs": [],
   "source": []
  },
  {
   "cell_type": "markdown",
   "metadata": {},
   "source": [
    "First, we want to determine how many features we want to select to have the best precision and recall.\n",
    "\n",
    "We select the best F2-score for each number of features included in the model. We use the F2 score instead of F1 socre because it puts more weight on recall. This is important because recall tends to be lower, and we want to find precision and recall higher than 0.3."
   ]
  },
  {
   "cell_type": "code",
   "execution_count": 44,
   "metadata": {},
   "outputs": [],
   "source": [
    "result_sort_by_f2=result.sort_values('f2',ascending=False)\n",
    "result_group=result_sort_by_f2.groupby('nb_feature')"
   ]
  },
  {
   "cell_type": "code",
   "execution_count": 45,
   "metadata": {},
   "outputs": [
    {
     "data": {
      "text/html": [
       "<div>\n",
       "<style scoped>\n",
       "    .dataframe tbody tr th:only-of-type {\n",
       "        vertical-align: middle;\n",
       "    }\n",
       "\n",
       "    .dataframe tbody tr th {\n",
       "        vertical-align: top;\n",
       "    }\n",
       "\n",
       "    .dataframe thead th {\n",
       "        text-align: right;\n",
       "    }\n",
       "</style>\n",
       "<table border=\"1\" class=\"dataframe\">\n",
       "  <thead>\n",
       "    <tr style=\"text-align: right;\">\n",
       "      <th></th>\n",
       "      <th>nb_feature</th>\n",
       "      <th>nb_neighbors</th>\n",
       "      <th>precision</th>\n",
       "      <th>recall</th>\n",
       "      <th>f1</th>\n",
       "      <th>f2</th>\n",
       "    </tr>\n",
       "  </thead>\n",
       "  <tbody>\n",
       "    <tr>\n",
       "      <th>0</th>\n",
       "      <td>1.0</td>\n",
       "      <td>1.0</td>\n",
       "      <td>0.188815</td>\n",
       "      <td>0.1840</td>\n",
       "      <td>0.186376</td>\n",
       "      <td>0.184943</td>\n",
       "    </tr>\n",
       "    <tr>\n",
       "      <th>9</th>\n",
       "      <td>2.0</td>\n",
       "      <td>3.0</td>\n",
       "      <td>0.376596</td>\n",
       "      <td>0.1770</td>\n",
       "      <td>0.240816</td>\n",
       "      <td>0.197987</td>\n",
       "    </tr>\n",
       "    <tr>\n",
       "      <th>14</th>\n",
       "      <td>3.0</td>\n",
       "      <td>1.0</td>\n",
       "      <td>0.293750</td>\n",
       "      <td>0.2820</td>\n",
       "      <td>0.287755</td>\n",
       "      <td>0.284274</td>\n",
       "    </tr>\n",
       "    <tr>\n",
       "      <th>21</th>\n",
       "      <td>4.0</td>\n",
       "      <td>1.0</td>\n",
       "      <td>0.295512</td>\n",
       "      <td>0.2930</td>\n",
       "      <td>0.294251</td>\n",
       "      <td>0.293499</td>\n",
       "    </tr>\n",
       "    <tr>\n",
       "      <th>28</th>\n",
       "      <td>5.0</td>\n",
       "      <td>1.0</td>\n",
       "      <td>0.207324</td>\n",
       "      <td>0.1925</td>\n",
       "      <td>0.199637</td>\n",
       "      <td>0.195293</td>\n",
       "    </tr>\n",
       "  </tbody>\n",
       "</table>\n",
       "</div>"
      ],
      "text/plain": [
       "    nb_feature  nb_neighbors  precision  recall        f1        f2\n",
       "0          1.0           1.0   0.188815  0.1840  0.186376  0.184943\n",
       "9          2.0           3.0   0.376596  0.1770  0.240816  0.197987\n",
       "14         3.0           1.0   0.293750  0.2820  0.287755  0.284274\n",
       "21         4.0           1.0   0.295512  0.2930  0.294251  0.293499\n",
       "28         5.0           1.0   0.207324  0.1925  0.199637  0.195293"
      ]
     },
     "execution_count": 45,
     "metadata": {},
     "output_type": "execute_result"
    }
   ],
   "source": [
    "\n",
    "top_param_by_nbfeature=result_group.head(1).sort_values('nb_feature')\n",
    "top_param_by_nbfeature.head()"
   ]
  },
  {
   "cell_type": "markdown",
   "metadata": {},
   "source": [
    "Let's plot the precision and recall by number of features selected in the model."
   ]
  },
  {
   "cell_type": "code",
   "execution_count": 46,
   "metadata": {},
   "outputs": [
    {
     "data": {
      "image/png": "[encoded data removed]",
      "text/plain": [
       "<matplotlib.figure.Figure at 0x2563203f7f0>"
      ]
     },
     "metadata": {},
     "output_type": "display_data"
    }
   ],
   "source": [
    "plt.plot(top_param_by_nbfeature.nb_feature,top_param_by_nbfeature.precision,c='red',label='precision')\n",
    "plt.plot(top_param_by_nbfeature.nb_feature,top_param_by_nbfeature.recall,c='blue',label='recall')\n",
    "plt.xlabel(\"Number of features used in the model\")\n",
    "plt.legend()\n",
    "plt.show()"
   ]
  },
  {
   "cell_type": "markdown",
   "metadata": {},
   "source": [
    "The 4 best features selected seems to provide the best performance. However the recall is lower than 0.3.\n",
    "\n",
    "If we select the 4 best variables, what's the number of neighbors that provides the best precision and recall (f2)?"
   ]
  },
  {
   "cell_type": "code",
   "execution_count": 47,
   "metadata": {},
   "outputs": [
    {
     "data": {
      "text/html": [
       "<div>\n",
       "<style scoped>\n",
       "    .dataframe tbody tr th:only-of-type {\n",
       "        vertical-align: middle;\n",
       "    }\n",
       "\n",
       "    .dataframe tbody tr th {\n",
       "        vertical-align: top;\n",
       "    }\n",
       "\n",
       "    .dataframe thead th {\n",
       "        text-align: right;\n",
       "    }\n",
       "</style>\n",
       "<table border=\"1\" class=\"dataframe\">\n",
       "  <thead>\n",
       "    <tr style=\"text-align: right;\">\n",
       "      <th></th>\n",
       "      <th>nb_feature</th>\n",
       "      <th>nb_neighbors</th>\n",
       "      <th>precision</th>\n",
       "      <th>recall</th>\n",
       "      <th>f1</th>\n",
       "      <th>f2</th>\n",
       "    </tr>\n",
       "  </thead>\n",
       "  <tbody>\n",
       "    <tr>\n",
       "      <th>21</th>\n",
       "      <td>4.0</td>\n",
       "      <td>1.0</td>\n",
       "      <td>0.295512</td>\n",
       "      <td>0.293</td>\n",
       "      <td>0.294251</td>\n",
       "      <td>0.293499</td>\n",
       "    </tr>\n",
       "  </tbody>\n",
       "</table>\n",
       "</div>"
      ],
      "text/plain": [
       "    nb_feature  nb_neighbors  precision  recall        f1        f2\n",
       "21         4.0           1.0   0.295512   0.293  0.294251  0.293499"
      ]
     },
     "execution_count": 47,
     "metadata": {},
     "output_type": "execute_result"
    }
   ],
   "source": [
    "\n",
    "top_param_by_nbfeature[top_param_by_nbfeature.nb_feature==4]"
   ]
  },
  {
   "cell_type": "markdown",
   "metadata": {},
   "source": [
    "### Decission Tree Classifier\n",
    "Decision Trees (DTs) are a non-parametric supervised learning method used for classification and regression\n",
    "\n",
    "For the Decission Tree Classifier algorithm, we need to tune the following parameters:\n",
    "\n",
    "__criterion__: It defines the function to measure the quality of a split. Sklearn supports “gini” \n",
    "criteria for Gini Index & “entropy” for Information Gain. By default, it takes “gini” value.<br />\n",
    "__splitter__: It defines the strategy to choose the split at each node. Supports “best” value to choose the best split & “random” to choose the best random split. By default, it takes “best” value.<br />\n",
    "__max_features__: It defines the no. of features to consider when looking for the best split. We can input integer, float, string & None value\n"
   ]
  },
  {
   "cell_type": "code",
   "execution_count": 48,
   "metadata": {},
   "outputs": [],
   "source": [
    "from sklearn import tree\n",
    "\n",
    "nb_features_orig=len(features1[1])\n",
    "\n",
    "#For each case, we want to record the different metrics.\n",
    "precision_result=[]\n",
    "recall_result=[]\n",
    "f1_result=[]\n",
    "f2_result=[]\n",
    "nb_feature_store=[]\n",
    "\n",
    "\n",
    "#Param\n",
    "\n",
    "#dt_clf = tree.DecisionTreeClassifier()\n",
    "dt_param = {'criterion':('gini', 'entropy'),\n",
    "'splitter':('best','random')}\n",
    "#clf = GridSearchCV(estimator = dt_clf, param_grid = dt_param)\n",
    "\n",
    "\n",
    "\n",
    "#We calculate the evaluation metrics for k best number of features selected in the model.\n",
    "for nb_features in range(1,nb_features_orig+1):\n",
    "    #Number of neighbours\n",
    "           \n",
    "        #classifier\n",
    "        clf = tree.DecisionTreeClassifier()\n",
    "        #We use cross-validation and we calculate precision and recall metrics\n",
    "        precision,recall,f1,f2=test_classifier(clf, labels1, features1,nb_features, folds = 1000)\n",
    "        \n",
    "        #We record the evaluation metrics for each case\n",
    "        precision_result.append(precision)\n",
    "        recall_result.append(recall)     \n",
    "        f1_result.append(f1)\n",
    "        f2_result.append(f2)\n",
    "        nb_feature_store.append(nb_features)\n",
    "\n",
    "\n"
   ]
  },
  {
   "cell_type": "markdown",
   "metadata": {},
   "source": [
    "Let's create a pandas DataFrame with the avaluation metrics (precision, recall, f1,f2) for each case simulated."
   ]
  },
  {
   "cell_type": "code",
   "execution_count": 49,
   "metadata": {},
   "outputs": [
    {
     "data": {
      "image/png": "[encoded data removed]",
      "text/plain": [
       "<matplotlib.figure.Figure at 0x256320f00f0>"
      ]
     },
     "metadata": {},
     "output_type": "display_data"
    }
   ],
   "source": [
    "plt.plot(nb_feature_store,precision_result,c='red',label='precision')\n",
    "plt.plot(nb_feature_store,recall_result,c='blue',label='recall')\n",
    "plt.xlabel(\"Number of features used in the model\")\n",
    "plt.title(\"Precision and recall by number of features included in the model\")\n",
    "plt.legend()\n",
    "plt.show()"
   ]
  },
  {
   "cell_type": "code",
   "execution_count": 50,
   "metadata": {},
   "outputs": [
    {
     "data": {
      "text/html": [
       "<div>\n",
       "<style scoped>\n",
       "    .dataframe tbody tr th:only-of-type {\n",
       "        vertical-align: middle;\n",
       "    }\n",
       "\n",
       "    .dataframe tbody tr th {\n",
       "        vertical-align: top;\n",
       "    }\n",
       "\n",
       "    .dataframe thead th {\n",
       "        text-align: right;\n",
       "    }\n",
       "</style>\n",
       "<table border=\"1\" class=\"dataframe\">\n",
       "  <thead>\n",
       "    <tr style=\"text-align: right;\">\n",
       "      <th></th>\n",
       "      <th>nb_feature</th>\n",
       "      <th>precision</th>\n",
       "      <th>recall</th>\n",
       "      <th>f1</th>\n",
       "      <th>f2</th>\n",
       "    </tr>\n",
       "  </thead>\n",
       "  <tbody>\n",
       "    <tr>\n",
       "      <th>0</th>\n",
       "      <td>1.0</td>\n",
       "      <td>0.213549</td>\n",
       "      <td>0.1450</td>\n",
       "      <td>0.172722</td>\n",
       "      <td>0.154948</td>\n",
       "    </tr>\n",
       "    <tr>\n",
       "      <th>1</th>\n",
       "      <td>2.0</td>\n",
       "      <td>0.184185</td>\n",
       "      <td>0.1875</td>\n",
       "      <td>0.185828</td>\n",
       "      <td>0.186827</td>\n",
       "    </tr>\n",
       "    <tr>\n",
       "      <th>2</th>\n",
       "      <td>3.0</td>\n",
       "      <td>0.281798</td>\n",
       "      <td>0.3135</td>\n",
       "      <td>0.296805</td>\n",
       "      <td>0.306601</td>\n",
       "    </tr>\n",
       "    <tr>\n",
       "      <th>3</th>\n",
       "      <td>4.0</td>\n",
       "      <td>0.259890</td>\n",
       "      <td>0.2825</td>\n",
       "      <td>0.270724</td>\n",
       "      <td>0.277669</td>\n",
       "    </tr>\n",
       "    <tr>\n",
       "      <th>4</th>\n",
       "      <td>5.0</td>\n",
       "      <td>0.261181</td>\n",
       "      <td>0.2920</td>\n",
       "      <td>0.275732</td>\n",
       "      <td>0.285268</td>\n",
       "    </tr>\n",
       "  </tbody>\n",
       "</table>\n",
       "</div>"
      ],
      "text/plain": [
       "   nb_feature  precision  recall        f1        f2\n",
       "0         1.0   0.213549  0.1450  0.172722  0.154948\n",
       "1         2.0   0.184185  0.1875  0.185828  0.186827\n",
       "2         3.0   0.281798  0.3135  0.296805  0.306601\n",
       "3         4.0   0.259890  0.2825  0.270724  0.277669\n",
       "4         5.0   0.261181  0.2920  0.275732  0.285268"
      ]
     },
     "execution_count": 50,
     "metadata": {},
     "output_type": "execute_result"
    }
   ],
   "source": [
    "import pandas as pd\n",
    "result=pd.DataFrame([nb_feature_store,precision_result,recall_result,f1_result,f2_result]).T\n",
    "result.columns=['nb_feature','precision','recall','f1','f2']\n",
    "result.head()"
   ]
  },
  {
   "cell_type": "markdown",
   "metadata": {},
   "source": [
    "First, we want to determine how many features we want to select to have the best precision and recall.\n",
    "\n",
    "We select the best F2-score for each number of features included in the model. We use the F2 score instead of F1 socre because it puts more weight on recall which is important because recall tends to be lower and we want to find precision and recall higher than 0.3."
   ]
  },
  {
   "cell_type": "code",
   "execution_count": 51,
   "metadata": {},
   "outputs": [
    {
     "data": {
      "text/html": [
       "<div>\n",
       "<style scoped>\n",
       "    .dataframe tbody tr th:only-of-type {\n",
       "        vertical-align: middle;\n",
       "    }\n",
       "\n",
       "    .dataframe tbody tr th {\n",
       "        vertical-align: top;\n",
       "    }\n",
       "\n",
       "    .dataframe thead th {\n",
       "        text-align: right;\n",
       "    }\n",
       "</style>\n",
       "<table border=\"1\" class=\"dataframe\">\n",
       "  <thead>\n",
       "    <tr style=\"text-align: right;\">\n",
       "      <th></th>\n",
       "      <th>nb_feature</th>\n",
       "      <th>precision</th>\n",
       "      <th>recall</th>\n",
       "      <th>f1</th>\n",
       "      <th>f2</th>\n",
       "    </tr>\n",
       "  </thead>\n",
       "  <tbody>\n",
       "    <tr>\n",
       "      <th>14</th>\n",
       "      <td>15.0</td>\n",
       "      <td>0.317788</td>\n",
       "      <td>0.3305</td>\n",
       "      <td>0.324020</td>\n",
       "      <td>0.327877</td>\n",
       "    </tr>\n",
       "    <tr>\n",
       "      <th>16</th>\n",
       "      <td>17.0</td>\n",
       "      <td>0.323909</td>\n",
       "      <td>0.3265</td>\n",
       "      <td>0.325199</td>\n",
       "      <td>0.325978</td>\n",
       "    </tr>\n",
       "    <tr>\n",
       "      <th>18</th>\n",
       "      <td>19.0</td>\n",
       "      <td>0.312347</td>\n",
       "      <td>0.3200</td>\n",
       "      <td>0.316127</td>\n",
       "      <td>0.318440</td>\n",
       "    </tr>\n",
       "    <tr>\n",
       "      <th>17</th>\n",
       "      <td>18.0</td>\n",
       "      <td>0.317524</td>\n",
       "      <td>0.3180</td>\n",
       "      <td>0.317762</td>\n",
       "      <td>0.317905</td>\n",
       "    </tr>\n",
       "    <tr>\n",
       "      <th>15</th>\n",
       "      <td>16.0</td>\n",
       "      <td>0.314428</td>\n",
       "      <td>0.3160</td>\n",
       "      <td>0.315212</td>\n",
       "      <td>0.315684</td>\n",
       "    </tr>\n",
       "    <tr>\n",
       "      <th>13</th>\n",
       "      <td>14.0</td>\n",
       "      <td>0.311024</td>\n",
       "      <td>0.3160</td>\n",
       "      <td>0.313492</td>\n",
       "      <td>0.314992</td>\n",
       "    </tr>\n",
       "    <tr>\n",
       "      <th>2</th>\n",
       "      <td>3.0</td>\n",
       "      <td>0.281798</td>\n",
       "      <td>0.3135</td>\n",
       "      <td>0.296805</td>\n",
       "      <td>0.306601</td>\n",
       "    </tr>\n",
       "    <tr>\n",
       "      <th>19</th>\n",
       "      <td>20.0</td>\n",
       "      <td>0.307731</td>\n",
       "      <td>0.3045</td>\n",
       "      <td>0.306107</td>\n",
       "      <td>0.305141</td>\n",
       "    </tr>\n",
       "    <tr>\n",
       "      <th>10</th>\n",
       "      <td>11.0</td>\n",
       "      <td>0.304997</td>\n",
       "      <td>0.2960</td>\n",
       "      <td>0.300431</td>\n",
       "      <td>0.297757</td>\n",
       "    </tr>\n",
       "    <tr>\n",
       "      <th>12</th>\n",
       "      <td>13.0</td>\n",
       "      <td>0.290675</td>\n",
       "      <td>0.2930</td>\n",
       "      <td>0.291833</td>\n",
       "      <td>0.292532</td>\n",
       "    </tr>\n",
       "  </tbody>\n",
       "</table>\n",
       "</div>"
      ],
      "text/plain": [
       "    nb_feature  precision  recall        f1        f2\n",
       "14        15.0   0.317788  0.3305  0.324020  0.327877\n",
       "16        17.0   0.323909  0.3265  0.325199  0.325978\n",
       "18        19.0   0.312347  0.3200  0.316127  0.318440\n",
       "17        18.0   0.317524  0.3180  0.317762  0.317905\n",
       "15        16.0   0.314428  0.3160  0.315212  0.315684\n",
       "13        14.0   0.311024  0.3160  0.313492  0.314992\n",
       "2          3.0   0.281798  0.3135  0.296805  0.306601\n",
       "19        20.0   0.307731  0.3045  0.306107  0.305141\n",
       "10        11.0   0.304997  0.2960  0.300431  0.297757\n",
       "12        13.0   0.290675  0.2930  0.291833  0.292532"
      ]
     },
     "execution_count": 51,
     "metadata": {},
     "output_type": "execute_result"
    }
   ],
   "source": [
    "result_sort_by_f2=result.sort_values('f2',ascending=False)\n",
    "#result_group=result_sort_by_f2.groupby('nb_feature')\n",
    "result_sort_by_f2.head(10)"
   ]
  },
  {
   "cell_type": "markdown",
   "metadata": {},
   "source": [
    "As it was evident from the plot and the F2 values picking 17 best features gives the maximum Precission and Recall. This will create an over complex tree. But this algorithm does take longer than Naive Bayes . "
   ]
  },
  {
   "cell_type": "markdown",
   "metadata": {},
   "source": [
    "## 5. Conclusion\n",
    "The goal of this project was to achieve a precision and recall higher than 0.3. From the above analysis Naive Bayes and the Decission Tree Classifier both have a precission and recall above 0.3 but Naive bayes is faster and gave the best precission and recall with less no of features which makes it less complicated.  That's why we will use Gaussian Naive Bayes algorithm to identify persons of interest. We will include in the model the 5 following features:\n",
    "\n",
    "salary <br />\n",
    "deferral_payments <br />\n",
    "total_payments <br />\n",
    "loan_advances <br />\n",
    "bonus \n"
   ]
  },
  {
   "cell_type": "markdown",
   "metadata": {},
   "source": [
    "## 6. Udacity Tester\n",
    "\n",
    "   Lets produce the (my_dataset.pkl, my_classifier.pkl, my_feature_list.pkl) files for the Udacity tester"
   ]
  },
  {
   "cell_type": "code",
   "execution_count": 52,
   "metadata": {},
   "outputs": [
    {
     "data": {
      "text/plain": [
       "GaussianNB(priors=None)"
      ]
     },
     "execution_count": 52,
     "metadata": {},
     "output_type": "execute_result"
    }
   ],
   "source": [
    "data_dict = pickle.load(open(\"final_project_dataset.pkl\", \"rb\") )\n",
    "\n",
    "#We remove the outlier 'TOTAL'.\n",
    "data_dict.pop('TOTAL',0)\n",
    "\n",
    "#We create the feature 'fraction_from_poi' and 'fraction_to_poi'.\n",
    "def computeFraction(poi_messages, all_messages):\n",
    "    \"\"\" given a number messages to/from POI (numerator) \n",
    "        and number of all messages to/from a person (denominator),\n",
    "        return the fraction of messages to/from that person\n",
    "        that are from/to a POI\n",
    "   \"\"\"\n",
    "    fraction = 0.\n",
    "    \n",
    "    if poi_messages=='NaN' or all_messages=='NaN':\n",
    "        fraction = 0.\n",
    "    else:  \n",
    "        fraction=float(poi_messages)/float(all_messages)\n",
    "\n",
    "    return fraction\n",
    "\n",
    "\n",
    "\n",
    "\n",
    "\n",
    "for name in data_dict:\n",
    "\n",
    "    data_point = data_dict[name]\n",
    "    from_poi_to_this_person = data_point[\"from_poi_to_this_person\"]\n",
    "    to_messages = data_point[\"to_messages\"]\n",
    "    fraction_from_poi = computeFraction( from_poi_to_this_person, to_messages )\n",
    "    data_point[\"fraction_from_poi\"] = fraction_from_poi\n",
    "\n",
    "\n",
    "    from_this_person_to_poi = data_point[\"from_this_person_to_poi\"]\n",
    "    from_messages = data_point[\"from_messages\"]\n",
    "    fraction_to_poi = computeFraction( from_this_person_to_poi, from_messages )\n",
    "    data_point[\"fraction_to_poi\"] = fraction_to_poi\n",
    "\n",
    "#We select the features\n",
    "features_list = [\"poi\",\"salary\", \"deferral_payments\",\"total_payments\",\"loan_advances\",\"bonus\",\"restricted_stock_deferred\"]\n",
    "\n",
    "my_dataset=data_dict\n",
    "data = featureFormat(data_dict, features_list, sort_keys = True)\n",
    "labels, features = targetFeatureSplit(data)\n",
    "\n",
    "#We select the classifier, Gaussian Naive Bayes.\n",
    "clf=GaussianNB()\n",
    "\n",
    "#We train the classifier.\n",
    "clf.fit(data,labels)\n",
    "\n"
   ]
  },
  {
   "cell_type": "code",
   "execution_count": 53,
   "metadata": {},
   "outputs": [],
   "source": [
    "sys.path.append(\"../final_project/\")\n",
    "from tester import load_classifier_and_data,test_classifier\n",
    "dump_classifier_and_data(clf, my_dataset, features_list)\n",
    "\n",
    "\n",
    "#pickle.dump( clf, open(\"my_classifier.pkl\", \"wb\") )"
   ]
  },
  {
   "cell_type": "markdown",
   "metadata": {},
   "source": [
    "### References\n",
    "[1] https://www.programiz.com/python-programming/methods/built-in/sorted<br/>\n",
    "[2] https://datascience.stackexchange.com/questions/10773/how-does-selectkbest-work<br/>\n",
    "[3] http://machinelearningmastery.com/how-to-tune-algorithm-parameters-with-scikit-learn/<br/>\n",
    "[4] http://scikit-learn.org/stable/supervised_learning.html<br/>\n",
    "[5] https://en.wikipedia.org/wiki/Cross-validation_(statistics)<br/>\n",
    "[6] https://github.com/jasminej90/dand5-identity-fraud-from-enron-email"
   ]
  }
 ],
 "metadata": {
  "kernelspec": {
   "display_name": "Python 3",
   "language": "python",
   "name": "python3"
  },
  "language_info": {
   "codemirror_mode": {
    "name": "ipython",
    "version": 3
   },
   "file_extension": ".py",
   "mimetype": "text/x-python",
   "name": "python",
   "nbconvert_exporter": "python",
   "pygments_lexer": "ipython3",
   "version": "3.6.4"
  }
 },
 "nbformat": 4,
 "nbformat_minor": 2
}
